{
 "cells": [
  {
   "cell_type": "markdown",
   "metadata": {},
   "source": [
    "# Causal discovery with `TIGRAMITE`\n",
    "\n",
    "TIGRAMITE is a time series analysis python module. It allows to reconstruct graphical models (conditional independence graphs) from discrete or continuously-valued time series based on the PCMCI method and create high-quality plots of the results.\n",
    "\n",
    "PCMCI is described here:\n",
    "J. Runge, P. Nowack, M. Kretschmer, S. Flaxman, D. Sejdinovic, \n",
    "Detecting and quantifying causal associations in large nonlinear time series datasets. Sci. Adv. 5, eaau4996 (2019) \n",
    "https://advances.sciencemag.org/content/5/11/eaau4996\n",
    "\n",
    "This tutorial compares PCMCI with FullCI. See the following paper for theoretical background:\n",
    "Runge, Jakob. 2018. “Causal Network Reconstruction from Time Series: From Theoretical Assumptions to Practical Estimation.” Chaos: An Interdisciplinary Journal of Nonlinear Science 28 (7): 075310.\n",
    "\n",
    "Last, the following Nature Communications Perspective paper provides an overview of causal inference methods in general, identifies promising applications, and discusses methodological challenges (exemplified in Earth system sciences): \n",
    "https://www.nature.com/articles/s41467-019-10105-3"
   ]
  },
  {
   "cell_type": "code",
   "execution_count": 1,
   "metadata": {},
   "outputs": [],
   "source": [
    "# Imports\n",
    "import numpy as np\n",
    "import matplotlib\n",
    "from matplotlib import pyplot as plt\n",
    "%matplotlib inline     \n",
    "## use `%matplotlib notebook` for interactive figures\n",
    "# plt.style.use('ggplot')\n",
    "import sklearn\n",
    "\n",
    "import tigramite\n",
    "from tigramite import data_processing as pp\n",
    "from tigramite import plotting as tp\n",
    "from tigramite.pcmci import PCMCI\n",
    "from tigramite.independence_tests import ParCorr, GPDC, CMIknn, CMIsymb\n",
    "from tigramite.models import LinearMediation, Prediction\n"
   ]
  },
  {
   "cell_type": "markdown",
   "metadata": {
    "collapsed": true
   },
   "source": [
    "# PCMCI vs FullCI\n",
    "\n",
    "An alternative way to estimate the time series graph is to directly test links by their defining equation (FullCI)\n",
    "\n",
    "\\begin{align*}\n",
    "X^i_{t-\\tau} \\perp X^j_t ~|~ \\mathbf{X}^-_t\n",
    "\\end{align*}\n",
    "\n",
    "where $\\mathbf{X}^-_t=(\\mathbf{X}_{t-1}, \\mathbf{X}_{t-2}, \\ldots)$ is the past of the whole process. This is the approach of a *lag-specific* version of Granger causality or Transfer entropy. This approach gives lower detection power for two reasons:\n",
    "\n",
    "1. Smaller *effect size* of FullCI compared to MCI\n",
    "2. Higher dimensionality "
   ]
  },
  {
   "cell_type": "markdown",
   "metadata": {},
   "source": [
    "## 1. Smaller *effect size* of FullCI compared to MCI\n",
    "\n",
    "Consider the following system:\n",
    "\n",
    "\\begin{align*} \n",
    "Z_t &= a Z_{t-1} + c_{XZ} X_{t-1} + \\eta^Z_t  \\\\\n",
    "X_t &= a_{X} X_{t-1} + c_{WX} W_{t-1} + \\eta^X_t  \\\\\n",
    "Y_t &= a Y_{t-1} + c_{XY} X_{t-2} + c_{WY} W_{t-3} + \\eta^Y_t \\\\\n",
    "W_t &= a W_{t-1} + \\eta^W_t\n",
    "\\end{align*}\n",
    "\n",
    "with independent Gaussian white noise processes $\\eta^{\\cdot}_t$ with variances $\\sigma^2_{\\cdot}$. Considering the link $X_{t-2}\\to Y_t$, here it can be shown (see description paper) that the test statistic $I^{FullCI}(X_{t-2}\\to Y_t) \\leq I^{MCI}(X_{t-2}\\to Y_t)$ generally. In the paper this is proven for arbitrary models. Measuring a smaller effect size implies a lower power to detect this particular link:"
   ]
  },
  {
   "cell_type": "code",
   "execution_count": 2,
   "metadata": {},
   "outputs": [],
   "source": [
    "# Setup analysis\n",
    "np.random.seed(42)     # Fix random seed\n",
    "links_coeffs = {0: [((0, -1), 0.9), ((1, -1), -0.25)],\n",
    "                1: [((1, -1), 0.95), ((3, -1), 0.3)],\n",
    "                2: [((2, -1), 0.85), ((1, -2), 0.3), ((3, -3), 0.3)],\n",
    "                3: [((3, -1), 0.8)],\n",
    "                }\n",
    "T = 100     # time series length\n",
    "N = len(links_coeffs)\n",
    "tau_max = 5\n",
    "realizations = 100\n",
    "alpha_level = 0.05\n",
    "\n",
    "var_names = [r'$Z$', r'$X$', r'$Y$', r'$W$']\n",
    "# # Define whole past\n",
    "# whole_past = {}\n",
    "# for j in range(N):\n",
    "#     whole_past[j] = [(var, -lag)\n",
    "#                          for var in range(N)\n",
    "#                          for lag in range(1, tau_max + 1)\n",
    "#                     ]\n",
    "def get_sig_links():\n",
    "    p_matrices = {'PCMCI':np.ones((realizations, N, N, tau_max+1)),\n",
    "                  'FullCI':np.ones((realizations, N, N, tau_max+1))}\n",
    "    val_matrices = {'PCMCI':np.zeros((realizations, N, N, tau_max+1)),\n",
    "                  'FullCI':np.zeros((realizations, N, N, tau_max+1))}  \n",
    "    for i in range(realizations):\n",
    "        data, true_parents_neighbors = pp.var_process(links_coeffs, T=T)\n",
    "        dataframe = pp.DataFrame(data)\n",
    "        \n",
    "        # PCMCI\n",
    "        pcmci = PCMCI(dataframe=dataframe, cond_ind_test=ParCorr())\n",
    "        results = pcmci.run_pcmci(tau_max=tau_max, pc_alpha=0.2)\n",
    "        p_matrices['PCMCI'][i] = results['p_matrix']\n",
    "        val_matrices['PCMCI'][i] = results['val_matrix']\n",
    "\n",
    "        # Condition on whole past\n",
    "        results = pcmci.run_fullci(tau_max=tau_max)\n",
    "        p_matrices['FullCI'][i] = results['p_matrix']\n",
    "        val_matrices['FullCI'][i] = results['val_matrix']\n",
    "\n",
    "    # Get true positive rate (=power) and false positive rate \n",
    "    sig_links = {'PCMCI':(p_matrices['PCMCI'] <= alpha_level).mean(axis=0),\n",
    "                  'FullCI':(p_matrices['FullCI'] <= alpha_level).mean(axis=0),}\n",
    "    ave_val_matrices = {'PCMCI':val_matrices['PCMCI'].mean(axis=0),\n",
    "                  'FullCI':val_matrices['FullCI'].mean(axis=0),}\n",
    "    return sig_links, ave_val_matrices\n",
    "\n"
   ]
  },
  {
   "cell_type": "code",
   "execution_count": 3,
   "metadata": {},
   "outputs": [
    {
     "ename": "KeyboardInterrupt",
     "evalue": "",
     "output_type": "error",
     "traceback": [
      "\u001b[0;31m---------------------------------------------------------------------------\u001b[0m",
      "\u001b[0;31mKeyboardInterrupt\u001b[0m                         Traceback (most recent call last)",
      "\u001b[0;32m<ipython-input-3-aa60f24636a9>\u001b[0m in \u001b[0;36m<module>\u001b[0;34m\u001b[0m\n\u001b[0;32m----> 1\u001b[0;31m \u001b[0msig_links\u001b[0m\u001b[0;34m,\u001b[0m \u001b[0mave_val_matrices\u001b[0m \u001b[0;34m=\u001b[0m \u001b[0mget_sig_links\u001b[0m\u001b[0;34m(\u001b[0m\u001b[0;34m)\u001b[0m\u001b[0;34m\u001b[0m\u001b[0;34m\u001b[0m\u001b[0m\n\u001b[0m",
      "\u001b[0;32m<ipython-input-2-ee5e33659bc3>\u001b[0m in \u001b[0;36mget_sig_links\u001b[0;34m()\u001b[0m\n\u001b[1;32m     36\u001b[0m \u001b[0;34m\u001b[0m\u001b[0m\n\u001b[1;32m     37\u001b[0m         \u001b[0;31m# Condition on whole past\u001b[0m\u001b[0;34m\u001b[0m\u001b[0;34m\u001b[0m\u001b[0;34m\u001b[0m\u001b[0m\n\u001b[0;32m---> 38\u001b[0;31m         \u001b[0mresults\u001b[0m \u001b[0;34m=\u001b[0m \u001b[0mpcmci\u001b[0m\u001b[0;34m.\u001b[0m\u001b[0mrun_fullci\u001b[0m\u001b[0;34m(\u001b[0m\u001b[0mtau_max\u001b[0m\u001b[0;34m=\u001b[0m\u001b[0mtau_max\u001b[0m\u001b[0;34m)\u001b[0m\u001b[0;34m\u001b[0m\u001b[0;34m\u001b[0m\u001b[0m\n\u001b[0m\u001b[1;32m     39\u001b[0m         \u001b[0mp_matrices\u001b[0m\u001b[0;34m[\u001b[0m\u001b[0;34m'FullCI'\u001b[0m\u001b[0;34m]\u001b[0m\u001b[0;34m[\u001b[0m\u001b[0mi\u001b[0m\u001b[0;34m]\u001b[0m \u001b[0;34m=\u001b[0m \u001b[0mresults\u001b[0m\u001b[0;34m[\u001b[0m\u001b[0;34m'p_matrix'\u001b[0m\u001b[0;34m]\u001b[0m\u001b[0;34m\u001b[0m\u001b[0;34m\u001b[0m\u001b[0m\n\u001b[1;32m     40\u001b[0m         \u001b[0mval_matrices\u001b[0m\u001b[0;34m[\u001b[0m\u001b[0;34m'FullCI'\u001b[0m\u001b[0;34m]\u001b[0m\u001b[0;34m[\u001b[0m\u001b[0mi\u001b[0m\u001b[0;34m]\u001b[0m \u001b[0;34m=\u001b[0m \u001b[0mresults\u001b[0m\u001b[0;34m[\u001b[0m\u001b[0;34m'val_matrix'\u001b[0m\u001b[0;34m]\u001b[0m\u001b[0;34m\u001b[0m\u001b[0;34m\u001b[0m\u001b[0m\n",
      "\u001b[0;32m~/anaconda3/envs/py36/lib/python3.6/site-packages/tigramite-4.2.0-py3.6-linux-x86_64.egg/tigramite/pcmci.py\u001b[0m in \u001b[0;36mrun_fullci\u001b[0;34m(self, selected_links, tau_min, tau_max, val_only)\u001b[0m\n\u001b[1;32m   1285\u001b[0m             \u001b[0mmax_conds_py\u001b[0m\u001b[0;34m=\u001b[0m\u001b[0;32mNone\u001b[0m\u001b[0;34m,\u001b[0m\u001b[0;34m\u001b[0m\u001b[0;34m\u001b[0m\u001b[0m\n\u001b[1;32m   1286\u001b[0m             \u001b[0mmax_conds_px\u001b[0m\u001b[0;34m=\u001b[0m\u001b[0;36m0\u001b[0m\u001b[0;34m,\u001b[0m\u001b[0;34m\u001b[0m\u001b[0;34m\u001b[0m\u001b[0m\n\u001b[0;32m-> 1287\u001b[0;31m             val_only=val_only)\n\u001b[0m\u001b[1;32m   1288\u001b[0m \u001b[0;34m\u001b[0m\u001b[0m\n\u001b[1;32m   1289\u001b[0m     def run_bivci(self,\n",
      "\u001b[0;32m~/anaconda3/envs/py36/lib/python3.6/site-packages/tigramite-4.2.0-py3.6-linux-x86_64.egg/tigramite/pcmci.py\u001b[0m in \u001b[0;36m_run_mci_or_variants\u001b[0;34m(self, selected_links, tau_min, tau_max, parents, max_conds_py, max_conds_px, val_only)\u001b[0m\n\u001b[1;32m   1089\u001b[0m                 \u001b[0;31m# Run the independence tests and record the results\u001b[0m\u001b[0;34m\u001b[0m\u001b[0;34m\u001b[0m\u001b[0;34m\u001b[0m\u001b[0m\n\u001b[1;32m   1090\u001b[0m                 val, pval = self.cond_ind_test.run_test(X, Y, Z=Z,\n\u001b[0;32m-> 1091\u001b[0;31m                                                         \u001b[0mtau_max\u001b[0m\u001b[0;34m=\u001b[0m\u001b[0mtau_max\u001b[0m\u001b[0;34m,\u001b[0m\u001b[0;34m\u001b[0m\u001b[0;34m\u001b[0m\u001b[0m\n\u001b[0m\u001b[1;32m   1092\u001b[0m                                                         \u001b[0;31m# verbosity=\u001b[0m\u001b[0;34m\u001b[0m\u001b[0;34m\u001b[0m\u001b[0;34m\u001b[0m\u001b[0m\n\u001b[1;32m   1093\u001b[0m                                                         \u001b[0;31m# self.verbosity\u001b[0m\u001b[0;34m\u001b[0m\u001b[0;34m\u001b[0m\u001b[0;34m\u001b[0m\u001b[0m\n",
      "\u001b[0;32m~/anaconda3/envs/py36/lib/python3.6/site-packages/tigramite-4.2.0-py3.6-linux-x86_64.egg/tigramite/independence_tests/independence_tests_base.py\u001b[0m in \u001b[0;36mrun_test\u001b[0;34m(self, X, Y, Z, tau_max, cut_off)\u001b[0m\n\u001b[1;32m    370\u001b[0m             \u001b[0mval\u001b[0m \u001b[0;34m=\u001b[0m \u001b[0mself\u001b[0m\u001b[0;34m.\u001b[0m\u001b[0m_get_dependence_measure_recycle\u001b[0m\u001b[0;34m(\u001b[0m\u001b[0mX\u001b[0m\u001b[0;34m,\u001b[0m \u001b[0mY\u001b[0m\u001b[0;34m,\u001b[0m \u001b[0mZ\u001b[0m\u001b[0;34m,\u001b[0m \u001b[0mxyz\u001b[0m\u001b[0;34m,\u001b[0m \u001b[0marray\u001b[0m\u001b[0;34m)\u001b[0m\u001b[0;34m\u001b[0m\u001b[0;34m\u001b[0m\u001b[0m\n\u001b[1;32m    371\u001b[0m             \u001b[0;31m# Get the p-value\u001b[0m\u001b[0;34m\u001b[0m\u001b[0;34m\u001b[0m\u001b[0;34m\u001b[0m\u001b[0m\n\u001b[0;32m--> 372\u001b[0;31m             \u001b[0mpval\u001b[0m \u001b[0;34m=\u001b[0m \u001b[0mself\u001b[0m\u001b[0;34m.\u001b[0m\u001b[0mget_significance\u001b[0m\u001b[0;34m(\u001b[0m\u001b[0mval\u001b[0m\u001b[0;34m,\u001b[0m \u001b[0marray\u001b[0m\u001b[0;34m,\u001b[0m \u001b[0mxyz\u001b[0m\u001b[0;34m,\u001b[0m \u001b[0mT\u001b[0m\u001b[0;34m,\u001b[0m \u001b[0mdim\u001b[0m\u001b[0;34m)\u001b[0m\u001b[0;34m\u001b[0m\u001b[0;34m\u001b[0m\u001b[0m\n\u001b[0m\u001b[1;32m    373\u001b[0m             \u001b[0mself\u001b[0m\u001b[0;34m.\u001b[0m\u001b[0mcached_ci_results\u001b[0m\u001b[0;34m[\u001b[0m\u001b[0mcombined_hash\u001b[0m\u001b[0;34m]\u001b[0m \u001b[0;34m=\u001b[0m \u001b[0;34m(\u001b[0m\u001b[0mval\u001b[0m\u001b[0;34m,\u001b[0m \u001b[0mpval\u001b[0m\u001b[0;34m)\u001b[0m\u001b[0;34m\u001b[0m\u001b[0;34m\u001b[0m\u001b[0m\n\u001b[1;32m    374\u001b[0m \u001b[0;34m\u001b[0m\u001b[0m\n",
      "\u001b[0;32m~/anaconda3/envs/py36/lib/python3.6/site-packages/tigramite-4.2.0-py3.6-linux-x86_64.egg/tigramite/independence_tests/independence_tests_base.py\u001b[0m in \u001b[0;36mget_significance\u001b[0;34m(self, val, array, xyz, T, dim, sig_override)\u001b[0m\n\u001b[1;32m    544\u001b[0m         \u001b[0;31m# Check if we are using the analytic significance\u001b[0m\u001b[0;34m\u001b[0m\u001b[0;34m\u001b[0m\u001b[0;34m\u001b[0m\u001b[0m\n\u001b[1;32m    545\u001b[0m         \u001b[0;32mif\u001b[0m \u001b[0muse_sig\u001b[0m \u001b[0;34m==\u001b[0m \u001b[0;34m'analytic'\u001b[0m\u001b[0;34m:\u001b[0m\u001b[0;34m\u001b[0m\u001b[0;34m\u001b[0m\u001b[0m\n\u001b[0;32m--> 546\u001b[0;31m             \u001b[0mpval\u001b[0m \u001b[0;34m=\u001b[0m \u001b[0mself\u001b[0m\u001b[0;34m.\u001b[0m\u001b[0mget_analytic_significance\u001b[0m\u001b[0;34m(\u001b[0m\u001b[0mvalue\u001b[0m\u001b[0;34m=\u001b[0m\u001b[0mval\u001b[0m\u001b[0;34m,\u001b[0m \u001b[0mT\u001b[0m\u001b[0;34m=\u001b[0m\u001b[0mT\u001b[0m\u001b[0;34m,\u001b[0m \u001b[0mdim\u001b[0m\u001b[0;34m=\u001b[0m\u001b[0mdim\u001b[0m\u001b[0;34m)\u001b[0m\u001b[0;34m\u001b[0m\u001b[0;34m\u001b[0m\u001b[0m\n\u001b[0m\u001b[1;32m    547\u001b[0m         \u001b[0;31m# Check if we are using the shuffle significance\u001b[0m\u001b[0;34m\u001b[0m\u001b[0;34m\u001b[0m\u001b[0;34m\u001b[0m\u001b[0m\n\u001b[1;32m    548\u001b[0m         \u001b[0;32melif\u001b[0m \u001b[0muse_sig\u001b[0m \u001b[0;34m==\u001b[0m \u001b[0;34m'shuffle_test'\u001b[0m\u001b[0;34m:\u001b[0m\u001b[0;34m\u001b[0m\u001b[0;34m\u001b[0m\u001b[0m\n",
      "\u001b[0;32m~/anaconda3/envs/py36/lib/python3.6/site-packages/tigramite-4.2.0-py3.6-linux-x86_64.egg/tigramite/independence_tests/parcorr.py\u001b[0m in \u001b[0;36mget_analytic_significance\u001b[0;34m(self, value, T, dim)\u001b[0m\n\u001b[1;32m    214\u001b[0m             \u001b[0mtrafo_val\u001b[0m \u001b[0;34m=\u001b[0m \u001b[0mvalue\u001b[0m \u001b[0;34m*\u001b[0m \u001b[0mnp\u001b[0m\u001b[0;34m.\u001b[0m\u001b[0msqrt\u001b[0m\u001b[0;34m(\u001b[0m\u001b[0mdeg_f\u001b[0m\u001b[0;34m/\u001b[0m\u001b[0;34m(\u001b[0m\u001b[0;36m1.\u001b[0m \u001b[0;34m-\u001b[0m \u001b[0mvalue\u001b[0m\u001b[0;34m*\u001b[0m\u001b[0mvalue\u001b[0m\u001b[0;34m)\u001b[0m\u001b[0;34m)\u001b[0m\u001b[0;34m\u001b[0m\u001b[0;34m\u001b[0m\u001b[0m\n\u001b[1;32m    215\u001b[0m             \u001b[0;31m# Two sided significance level\u001b[0m\u001b[0;34m\u001b[0m\u001b[0;34m\u001b[0m\u001b[0;34m\u001b[0m\u001b[0m\n\u001b[0;32m--> 216\u001b[0;31m             \u001b[0mpval\u001b[0m \u001b[0;34m=\u001b[0m \u001b[0mstats\u001b[0m\u001b[0;34m.\u001b[0m\u001b[0mt\u001b[0m\u001b[0;34m.\u001b[0m\u001b[0msf\u001b[0m\u001b[0;34m(\u001b[0m\u001b[0mnp\u001b[0m\u001b[0;34m.\u001b[0m\u001b[0mabs\u001b[0m\u001b[0;34m(\u001b[0m\u001b[0mtrafo_val\u001b[0m\u001b[0;34m)\u001b[0m\u001b[0;34m,\u001b[0m \u001b[0mdeg_f\u001b[0m\u001b[0;34m)\u001b[0m \u001b[0;34m*\u001b[0m \u001b[0;36m2\u001b[0m\u001b[0;34m\u001b[0m\u001b[0;34m\u001b[0m\u001b[0m\n\u001b[0m\u001b[1;32m    217\u001b[0m \u001b[0;34m\u001b[0m\u001b[0m\n\u001b[1;32m    218\u001b[0m         \u001b[0;32mreturn\u001b[0m \u001b[0mpval\u001b[0m\u001b[0;34m\u001b[0m\u001b[0;34m\u001b[0m\u001b[0m\n",
      "\u001b[0;32m~/anaconda3/envs/py36/lib/python3.6/site-packages/scipy/stats/_distn_infrastructure.py\u001b[0m in \u001b[0;36msf\u001b[0;34m(self, x, *args, **kwds)\u001b[0m\n\u001b[1;32m   1888\u001b[0m         \u001b[0mdtyp\u001b[0m \u001b[0;34m=\u001b[0m \u001b[0mnp\u001b[0m\u001b[0;34m.\u001b[0m\u001b[0mfind_common_type\u001b[0m\u001b[0;34m(\u001b[0m\u001b[0;34m[\u001b[0m\u001b[0mx\u001b[0m\u001b[0;34m.\u001b[0m\u001b[0mdtype\u001b[0m\u001b[0;34m,\u001b[0m \u001b[0mnp\u001b[0m\u001b[0;34m.\u001b[0m\u001b[0mfloat64\u001b[0m\u001b[0;34m]\u001b[0m\u001b[0;34m,\u001b[0m \u001b[0;34m[\u001b[0m\u001b[0;34m]\u001b[0m\u001b[0;34m)\u001b[0m\u001b[0;34m\u001b[0m\u001b[0;34m\u001b[0m\u001b[0m\n\u001b[1;32m   1889\u001b[0m         \u001b[0mx\u001b[0m \u001b[0;34m=\u001b[0m \u001b[0mnp\u001b[0m\u001b[0;34m.\u001b[0m\u001b[0masarray\u001b[0m\u001b[0;34m(\u001b[0m\u001b[0;34m(\u001b[0m\u001b[0mx\u001b[0m \u001b[0;34m-\u001b[0m \u001b[0mloc\u001b[0m\u001b[0;34m)\u001b[0m\u001b[0;34m/\u001b[0m\u001b[0mscale\u001b[0m\u001b[0;34m,\u001b[0m \u001b[0mdtype\u001b[0m\u001b[0;34m=\u001b[0m\u001b[0mdtyp\u001b[0m\u001b[0;34m)\u001b[0m\u001b[0;34m\u001b[0m\u001b[0;34m\u001b[0m\u001b[0m\n\u001b[0;32m-> 1890\u001b[0;31m         \u001b[0mcond0\u001b[0m \u001b[0;34m=\u001b[0m \u001b[0mself\u001b[0m\u001b[0;34m.\u001b[0m\u001b[0m_argcheck\u001b[0m\u001b[0;34m(\u001b[0m\u001b[0;34m*\u001b[0m\u001b[0margs\u001b[0m\u001b[0;34m)\u001b[0m \u001b[0;34m&\u001b[0m \u001b[0;34m(\u001b[0m\u001b[0mscale\u001b[0m \u001b[0;34m>\u001b[0m \u001b[0;36m0\u001b[0m\u001b[0;34m)\u001b[0m\u001b[0;34m\u001b[0m\u001b[0;34m\u001b[0m\u001b[0m\n\u001b[0m\u001b[1;32m   1891\u001b[0m         \u001b[0mcond1\u001b[0m \u001b[0;34m=\u001b[0m \u001b[0mself\u001b[0m\u001b[0;34m.\u001b[0m\u001b[0m_open_support_mask\u001b[0m\u001b[0;34m(\u001b[0m\u001b[0mx\u001b[0m\u001b[0;34m,\u001b[0m \u001b[0;34m*\u001b[0m\u001b[0margs\u001b[0m\u001b[0;34m)\u001b[0m \u001b[0;34m&\u001b[0m \u001b[0;34m(\u001b[0m\u001b[0mscale\u001b[0m \u001b[0;34m>\u001b[0m \u001b[0;36m0\u001b[0m\u001b[0;34m)\u001b[0m\u001b[0;34m\u001b[0m\u001b[0;34m\u001b[0m\u001b[0m\n\u001b[1;32m   1892\u001b[0m         \u001b[0mcond2\u001b[0m \u001b[0;34m=\u001b[0m \u001b[0mcond0\u001b[0m \u001b[0;34m&\u001b[0m \u001b[0;34m(\u001b[0m\u001b[0mx\u001b[0m \u001b[0;34m<=\u001b[0m \u001b[0m_a\u001b[0m\u001b[0;34m)\u001b[0m\u001b[0;34m\u001b[0m\u001b[0;34m\u001b[0m\u001b[0m\n",
      "\u001b[0;32m~/anaconda3/envs/py36/lib/python3.6/site-packages/scipy/stats/_continuous_distns.py\u001b[0m in \u001b[0;36m_argcheck\u001b[0;34m(self, df)\u001b[0m\n\u001b[1;32m   5239\u001b[0m     \"\"\"\n\u001b[1;32m   5240\u001b[0m     \u001b[0;32mdef\u001b[0m \u001b[0m_argcheck\u001b[0m\u001b[0;34m(\u001b[0m\u001b[0mself\u001b[0m\u001b[0;34m,\u001b[0m \u001b[0mdf\u001b[0m\u001b[0;34m)\u001b[0m\u001b[0;34m:\u001b[0m\u001b[0;34m\u001b[0m\u001b[0;34m\u001b[0m\u001b[0m\n\u001b[0;32m-> 5241\u001b[0;31m         \u001b[0;32mreturn\u001b[0m \u001b[0mdf\u001b[0m \u001b[0;34m>\u001b[0m \u001b[0;36m0\u001b[0m\u001b[0;34m\u001b[0m\u001b[0;34m\u001b[0m\u001b[0m\n\u001b[0m\u001b[1;32m   5242\u001b[0m \u001b[0;34m\u001b[0m\u001b[0m\n\u001b[1;32m   5243\u001b[0m     \u001b[0;32mdef\u001b[0m \u001b[0m_rvs\u001b[0m\u001b[0;34m(\u001b[0m\u001b[0mself\u001b[0m\u001b[0;34m,\u001b[0m \u001b[0mdf\u001b[0m\u001b[0;34m)\u001b[0m\u001b[0;34m:\u001b[0m\u001b[0;34m\u001b[0m\u001b[0;34m\u001b[0m\u001b[0m\n",
      "\u001b[0;31mKeyboardInterrupt\u001b[0m: "
     ]
    }
   ],
   "source": [
    "sig_links, ave_val_matrices = get_sig_links()"
   ]
  },
  {
   "cell_type": "markdown",
   "metadata": {},
   "source": [
    "We estimate how often a link was detected at the given ``alpha_level`` and plot this fraction as the width of the links while the average effect size for each link is given as the color:"
   ]
  },
  {
   "cell_type": "code",
   "execution_count": null,
   "metadata": {},
   "outputs": [],
   "source": [
    "# Showing detection power as width of links\n",
    "min_sig = 0.2\n",
    "vminmax = 0.4\n",
    "link_matrix = (sig_links['PCMCI'] > min_sig)\n",
    "tp.plot_graph(val_matrix=ave_val_matrices['PCMCI'],\n",
    "              link_matrix=link_matrix, var_names=var_names,\n",
    "              link_width=sig_links['PCMCI'],\n",
    "             arrow_linewidth=70.,\n",
    "              vmin_edges=-vminmax,\n",
    "              vmax_edges=vminmax,\n",
    "\n",
    ")\n",
    "link_matrix = (sig_links['FullCI'] > min_sig)\n",
    "tp.plot_graph(val_matrix=ave_val_matrices['FullCI'],\n",
    "              link_matrix=link_matrix, var_names=var_names,\n",
    "              link_width=sig_links['FullCI'], \n",
    "              link_colorbar_label='FullCI',\n",
    "              node_colorbar_label='auto-FullCI',\n",
    "             arrow_linewidth=70.,\n",
    "              vmin_edges=-vminmax,\n",
    "              vmax_edges=vminmax,\n",
    ")"
   ]
  },
  {
   "cell_type": "markdown",
   "metadata": {},
   "source": [
    "Evidently, the power of FullCI is lower mainly due to FullCI's test statistic effect size being smaller. MCI has been constructed to estimate a certain notion of *causal strength* as discussed in the paper. MCI, thus, alleviates the effect of other dependencies on a particular link. In large-scale studies, this feature allows to rank links by their causal strength."
   ]
  },
  {
   "cell_type": "markdown",
   "metadata": {},
   "source": [
    "## 2. Higher dimensionality \n",
    "\n",
    "An obvious drawback of FullCI is that it always includes the whole past as a condition leading to very high estimation dimension which results in lower power. In the following we consider a model with many irrelevant independent variables."
   ]
  },
  {
   "cell_type": "code",
   "execution_count": null,
   "metadata": {},
   "outputs": [],
   "source": [
    "# Setup analysis\n",
    "np.random.seed(42)     # Fix random seed\n",
    "links_coeffs = {0: [((0, -1), 0.9), ((1, -1), -0.25)],\n",
    "                1: [((1, -1), 0.95), ((3, -1), 0.3)],\n",
    "                2: [((2, -1), 0.85), ((1, -2), 0.3), ((3, -3), 0.3)],\n",
    "                3: [((3, -1), 0.8)],\n",
    "                }\n",
    "T = 80     # time series length\n",
    "tau_max = 5\n",
    "realizations = 100\n",
    "alpha_level = 0.05\n",
    "n_variables = 9\n",
    "\n",
    "# Add independent autocorrelated variables\n",
    "for d in range(4, n_variables):\n",
    "    links_coeffs[d] = [((d, -1), 0.2 + np.random.rand()*0.7)]\n",
    "    \n",
    "var_names = [r'$Z$', r'$X$', r'$Y$', r'$W$'] + list(range(4, n_variables))\n",
    "\n",
    "N = len(links_coeffs)\n",
    "# # Define whole past\n",
    "# whole_past = {}\n",
    "# for j in range(N):\n",
    "#     whole_past[j] = [(var, -lag)\n",
    "#                          for var in range(N)\n",
    "#                          for lag in range(1, tau_max + 1)\n",
    "#                     ]"
   ]
  },
  {
   "cell_type": "code",
   "execution_count": null,
   "metadata": {},
   "outputs": [],
   "source": [
    "# This cell may take some minutes\n",
    "sig_links, ave_val_matrices = get_sig_links()"
   ]
  },
  {
   "cell_type": "code",
   "execution_count": null,
   "metadata": {},
   "outputs": [],
   "source": [
    "# Showing detection power as width of links\n",
    "min_sig = 0.05\n",
    "vminmax = 0.5\n",
    "link_matrix = (sig_links['PCMCI'] > min_sig)\n",
    "tp.plot_graph(val_matrix=ave_val_matrices['PCMCI'],\n",
    "              link_matrix=link_matrix, \n",
    "              link_width=sig_links['PCMCI'],\n",
    "             arrow_linewidth=70.,\n",
    "              vmin_edges=-vminmax,\n",
    "              vmax_edges=vminmax,\n",
    "              var_names = var_names,\n",
    "\n",
    ")\n",
    "link_matrix = (sig_links['FullCI'] > min_sig)\n",
    "tp.plot_graph(val_matrix=ave_val_matrices['FullCI'],\n",
    "              link_matrix=link_matrix, \n",
    "              link_width=sig_links['FullCI'], \n",
    "              link_colorbar_label='FullCI',\n",
    "              node_colorbar_label='auto-FullCI',\n",
    "             arrow_linewidth=70.,\n",
    "              vmin_edges=-vminmax,\n",
    "              vmax_edges=vminmax,\n",
    "             var_names = var_names,\n",
    "\n",
    ")"
   ]
  },
  {
   "cell_type": "markdown",
   "metadata": {},
   "source": [
    "Here adding just 5 independent variables makes it already impossible to detect the true links with FullCI, while PCMCI still detects them with almost the same power as before while still well controlling false positives at the expected 5% level (note that only 100 realizations were used to estimate the false positive rates making them not very reliable while the true positive rates are more reliable):"
   ]
  },
  {
   "cell_type": "code",
   "execution_count": null,
   "metadata": {},
   "outputs": [],
   "source": [
    "true_links = np.zeros((N, N, tau_max+1))\n",
    "for var in list(links_coeffs):\n",
    "    for par in links_coeffs[var]:\n",
    "        true_links[par[0][0], var, abs(par[0][1])] = True\n",
    "# print true_links\n",
    "print (\"Mean true  positives PCMCI \", np.mean(sig_links['PCMCI'][:,:,1:]\n",
    "                                                [true_links[:,:,1:]==True]).round(3))\n",
    "print (\"Mean false positives PCMCI \", np.mean(sig_links['PCMCI'][:,:,1:]\n",
    "                                                [true_links[:,:,1:]==False]).round(3))\n",
    "print (\"Mean true  positives FullCI    \", np.mean(sig_links['FullCI'][:,:,1:]\n",
    "                                                [true_links[:,:,1:]==True]).round(3))\n",
    "print (\"Mean false positives FullCI    \", np.mean(sig_links['FullCI'][:,:,1:]\n",
    "                                                [true_links[:,:,1:]==False]).round(3))"
   ]
  },
  {
   "cell_type": "code",
   "execution_count": null,
   "metadata": {},
   "outputs": [],
   "source": []
  },
  {
   "cell_type": "code",
   "execution_count": null,
   "metadata": {},
   "outputs": [],
   "source": []
  }
 ],
 "metadata": {
  "kernelspec": {
   "display_name": "Python 3",
   "language": "python",
   "name": "python3"
  },
  "language_info": {
   "codemirror_mode": {
    "name": "ipython",
    "version": 3
   },
   "file_extension": ".py",
   "mimetype": "text/x-python",
   "name": "python",
   "nbconvert_exporter": "python",
   "pygments_lexer": "ipython3",
   "version": "3.6.9"
  }
 },
 "nbformat": 4,
 "nbformat_minor": 1
}
