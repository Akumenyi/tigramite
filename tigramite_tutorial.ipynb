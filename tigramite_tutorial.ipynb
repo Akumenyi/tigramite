{
 "cells": [
  {
   "cell_type": "markdown",
   "metadata": {},
   "source": [
    "# Causal discovery with `TIGRAMITE`\n",
    "\n",
    "TIGRAMITE is a time series analysis python module. It allows to reconstruct graphical models (conditional independence graphs) from discrete or continuously-valued time series based on a causal discovery algorithm and create high-quality plots of the results.\n",
    "This tutorial explains the main features and gives walk-through examples. It covers:\n",
    "\n",
    "1. Basic usage\n",
    "2. Plotting\n",
    "3. Nonlinear conditional independence tests\n",
    "4. Symbolic time series\n",
    "5. Causal assumptions\n",
    "6. Missing values and masking\n",
    "7. Parallization\n",
    "8. PCMCI vs Granger causality\n",
    "9. Causal effects and mediation\n",
    "10. Optimal predictor selection"
   ]
  },
  {
   "cell_type": "markdown",
   "metadata": {},
   "source": [
    "## 1. Basic usage"
   ]
  },
  {
   "cell_type": "code",
   "execution_count": 1,
   "metadata": {
    "collapsed": true
   },
   "outputs": [],
   "source": [
    "# Imports\n",
    "import numpy\n",
    "import matplotlib\n",
    "from matplotlib import pyplot as plt\n",
    "%matplotlib inline     \n",
    "## use `%matplotlib notebook` for interactive figures\n",
    "# plt.style.use('ggplot')\n",
    "import sklearn\n",
    "\n",
    "from tigramite import data_processing as pp\n",
    "from tigramite import plotting as tp\n",
    "from tigramite.pcmci import PCMCI\n",
    "from tigramite.independence_tests import ParCorr, GPDC, CMIknn, CMIsymb\n",
    "from tigramite.models import LinearMediation, Prediction\n"
   ]
  },
  {
   "cell_type": "markdown",
   "metadata": {},
   "source": [
    "Consider time series coming from a data generating process\n",
    "\n",
    "\\begin{align*}\n",
    "X^0_t &= 0.7 X^0_{t-1} - 0.8 X^1_{t-1} + \\eta^0_t\\\\\n",
    "X^1_t &= 0.8 X^1_{t-1} + 0.8 X^3_{t-1} + \\eta^1_t\\\\\n",
    "X^2_t &= 0.5 X^2_{t-1} + 0.5 X^1_{t-2} + 0.6 X^3_{t-3} + \\eta^2_t\\\\\n",
    "X^3_t &= 0.7 X^3_{t-1} + \\eta^3_t\\\\\n",
    "\\end{align*}\n",
    "\n",
    "where $\\eta$ are independent zero-mean unit variance random variables. Our goal is to reconstruct the drivers of each variable. In Tigramite such a process can be generated with the function ``pp.var_process``."
   ]
  },
  {
   "cell_type": "code",
   "execution_count": null,
   "metadata": {
    "collapsed": true
   },
   "outputs": [],
   "source": [
    "numpy.random.seed(42)     # Fix random seed\n",
    "links_coeffs = {0: [((0, -1), 0.7), ((1, -1), -0.8)],\n",
    "                1: [((1, -1), 0.8), ((3, -1), 0.8)],\n",
    "                2: [((2, -1), 0.5), ((1, -2), 0.5), ((3, -3), 0.6)],\n",
    "                3: [((3, -1), 0.4)],\n",
    "                }\n",
    "T = 1000     # time series length\n",
    "data, true_parents_neighbors = pp.var_process(links_coeffs, T=T)\n",
    "T, N = data.shape\n",
    "\n",
    "# Initialize dataframe object\n",
    "dataframe = pp.DataFrame(data)\n",
    "\n",
    "# Specify time axis and variable names\n",
    "datatime = numpy.arange(len(data))\n",
    "var_names = [r'$X^0$', r'$X^1$', r'$X^2$', r'$X^3$']"
   ]
  },
  {
   "cell_type": "markdown",
   "metadata": {},
   "source": [
    "First, we plot the time series. This can be done with the function ``tp.plot_timeseries``"
   ]
  },
  {
   "cell_type": "code",
   "execution_count": null,
   "metadata": {
    "scrolled": true
   },
   "outputs": [],
   "source": [
    "tp.plot_timeseries(data, datatime, var_names)"
   ]
  },
  {
   "cell_type": "markdown",
   "metadata": {},
   "source": [
    "It's stationary and doesn't contain missing values (covered below). Next, we choose a conditional independence test, here we start with ``ParCorr`` implementing linear partial correlation. With ``significance='analytic'`` the null distribution is assumed to be Student's $t$. Then we initialize the ``PCMCI`` method with  ``dataframe``, ``cond_ind_test``, and (optionally) ``var_names``:"
   ]
  },
  {
   "cell_type": "code",
   "execution_count": null,
   "metadata": {
    "collapsed": true
   },
   "outputs": [],
   "source": [
    "parcorr = ParCorr(significance='analytic')\n",
    "pcmci = PCMCI(\n",
    "    dataframe=dataframe, \n",
    "    cond_ind_test=parcorr,\n",
    "    var_names=var_names,\n",
    "    verbosity=1)"
   ]
  },
  {
   "cell_type": "markdown",
   "metadata": {},
   "source": [
    "Before running the causal algorithm, it's a good idea to plot the lagged unconditional dependencies, e.g., the lagged correlations. This can help to identify which maximal time lag ``tau_max`` to choose in the causal algorithm."
   ]
  },
  {
   "cell_type": "code",
   "execution_count": null,
   "metadata": {},
   "outputs": [],
   "source": [
    "correlations = pcmci.get_lagged_dependencies(tau_max=20)\n",
    "lag_func_matrix = tp.plot_lagfuncs(val_matrix=correlations, var_names=var_names, \n",
    "                                    x_base=5, y_base=.5)"
   ]
  },
  {
   "cell_type": "markdown",
   "metadata": {},
   "source": [
    "Since the dependencies decay beyond a maximum lag of around 8, we choose ``tau_max=8`` for the causal algorithm. The other main parameter is ``pc_alpha`` which sets the significance level in the condition-selection step. Here we let PCMCI choose the optimal value by setting it to ``pc_alpha=None``. Then PCMCI will optimize this parameter in the ParCorr case by the Akaike Information criterion among a reasonable default list of values (``pc_alpha = [0.05, 0.1, 0.2, 0.3, 0.4, 0.5]``)."
   ]
  },
  {
   "cell_type": "code",
   "execution_count": null,
   "metadata": {},
   "outputs": [],
   "source": [
    "results = pcmci.run_pcmci(tau_max=8, pc_alpha=None)"
   ]
  },
  {
   "cell_type": "markdown",
   "metadata": {},
   "source": [
    "As you can see from the output, PCMCI selected different ``pc_alpha`` for each variable. The result of ``run_pcmci`` is a dictionary containing the matrix of p-values, the matrix of test statistic values (here MCI partial correlations), and optionally its confidence bounds (can be specified upon initializing ``ParCorr``). ``p_matrix`` and ``val_matrix`` are of shape ``(N, N, tau_max+1)`` with entry ``(i, j, \\tau)`` denoting the test for the link $X^i_{t-\\tau} \\to X^j_t$. Per default, the MCI values for $\\tau=0$ are not evaluated (can be changed with ``tau_min`` argument)."
   ]
  },
  {
   "cell_type": "code",
   "execution_count": null,
   "metadata": {},
   "outputs": [],
   "source": [
    "print(\"p-values\")\n",
    "print results['p_matrix'].round(3)\n",
    "print(\"MCI partial correlations\")\n",
    "print results['val_matrix'].round(2)"
   ]
  },
  {
   "cell_type": "markdown",
   "metadata": {},
   "source": [
    "If we want to control for the $N^2 \\tau_\\max$ tests conducted here, we can further correct the p-values, e.g., by False Discovery Rate (FDR) control yielding the ``q_matrix``. At a chosen significance level the detected parents of each variable can then be printed:"
   ]
  },
  {
   "cell_type": "code",
   "execution_count": null,
   "metadata": {},
   "outputs": [],
   "source": [
    "q_matrix = pcmci.get_corrected_pvalues(p_matrix=results['p_matrix'], fdr_method='fdr_bh')\n",
    "pcmci._print_significant_links(\n",
    "        p_matrix = results['p_matrix'], \n",
    "        q_matrix = q_matrix,\n",
    "        val_matrix = results['val_matrix'],\n",
    "        alpha_level = 0.01)"
   ]
  },
  {
   "cell_type": "markdown",
   "metadata": {},
   "source": [
    "## 2. Plotting"
   ]
  },
  {
   "cell_type": "markdown",
   "metadata": {},
   "source": [
    "Tigramite currently offers three plotting options: The lag function matrix (as shown above), the time series graph, and the process graph which aggregates the information in the time series graph. Both take as arguments the boolean ``link_matrix`` which denotes significant links by ``1``."
   ]
  },
  {
   "cell_type": "code",
   "execution_count": null,
   "metadata": {
    "collapsed": true
   },
   "outputs": [],
   "source": [
    "link_matrix = pcmci._return_significant_parents(pq_matrix=q_matrix,\n",
    "                        val_matrix=results['val_matrix'], alpha_level=0.01)['link_matrix']"
   ]
  },
  {
   "cell_type": "markdown",
   "metadata": {},
   "source": [
    "In the process graph, the node color denotes the auto-MCI value and the link colors the cross-MCI value. If links occur at multiple lags between two variables, the link color denotes the strongest one and the label lists all significant lags in order of their strength."
   ]
  },
  {
   "cell_type": "code",
   "execution_count": null,
   "metadata": {
    "scrolled": true
   },
   "outputs": [],
   "source": [
    "tp.plot_graph(\n",
    "    val_matrix=results['val_matrix'],\n",
    "    link_matrix=link_matrix,\n",
    "    var_names=var_names,\n",
    "    link_colorbar_label='cross-MCI',\n",
    "    node_colorbar_label='auto-MCI',\n",
    "    )"
   ]
  },
  {
   "cell_type": "code",
   "execution_count": null,
   "metadata": {},
   "outputs": [],
   "source": [
    "# Plot time series graph\n",
    "tp.plot_time_series_graph(\n",
    "    val_matrix=results['val_matrix'],\n",
    "    link_matrix=link_matrix,\n",
    "    var_names=var_names,\n",
    "    link_colorbar_label='MCI',\n",
    "    )"
   ]
  },
  {
   "cell_type": "markdown",
   "metadata": {},
   "source": [
    "While the process graph is nicer to look at, the time series graph better represents the spatio-temporal dependency structure from which causal pathways can be read off."
   ]
  },
  {
   "cell_type": "markdown",
   "metadata": {},
   "source": [
    "## 3. Nonlinear conditional independence tests"
   ]
  },
  {
   "cell_type": "markdown",
   "metadata": {},
   "source": [
    "If nonlinear dependencies are present, it is advisable to use a nonparametric test. Consider the following model:\n",
    "\n",
    "\\begin{align*}\n",
    "    X^0_t &= 0.2 (X^1_{t-1})^2 + \\eta^0_t\\\\\n",
    "    X^1_t &= \\eta^1_t \\\\\n",
    "    X^2_t &= 0.3 (X^1_{t-2})^2 + \\eta^2_t\n",
    "\\end{align*}"
   ]
  },
  {
   "cell_type": "code",
   "execution_count": null,
   "metadata": {},
   "outputs": [],
   "source": [
    "numpy.random.seed(1)\n",
    "data = numpy.random.randn(500, 3)\n",
    "for t in range(1, 500):\n",
    "    data[t, 0] += 0.4*data[t-1, 1]**2\n",
    "    data[t, 2] += 0.3*data[t-2, 1]**2\n",
    "dataframe = pp.DataFrame(data)\n",
    "tp.plot_timeseries(data, var_names=var_names)"
   ]
  },
  {
   "cell_type": "code",
   "execution_count": null,
   "metadata": {},
   "outputs": [],
   "source": [
    "pcmci_parcorr = PCMCI(\n",
    "    dataframe=dataframe, \n",
    "    cond_ind_test=parcorr,\n",
    "    var_names=var_names,\n",
    "    verbosity=0)\n",
    "results = pcmci_parcorr.run_pcmci(tau_max=2, pc_alpha=0.2)\n",
    "pcmci_parcorr._print_significant_links(\n",
    "        p_matrix = results['p_matrix'], \n",
    "        val_matrix = results['val_matrix'],\n",
    "        alpha_level = 0.01)"
   ]
  },
  {
   "cell_type": "markdown",
   "metadata": {},
   "source": [
    "``ParCorr`` here fails in two ways: (1) It cannot detect the two nonlinear links, (2) it wrongly detects a link $X^0_{t-1} \\to X^2_t$ because it also cannot *condition out* a nonlinear dependency."
   ]
  },
  {
   "cell_type": "markdown",
   "metadata": {},
   "source": [
    "### GPDC\n",
    "\n",
    "Tigramite covers nonlinear additive dependencies with a test based on *Gaussian process* regression and a *distance correlation* (``GPDC``) or *maximal correlation* (``GPACE``) on the residuals. Here we demonstrate GPDC since GPACE requires an R-package. For GPDC no analytical null distribution is available. One can either use a computationally expensive shuffle test throughout or the null distribution can be pre-computed for different anticipated sample sizes with ``generate_and_save_nulldists`` and stored to disk (could be run overnight:). Then ``significance='analytic'`` loads this file. If no file is given, the distribution is generated and stored in cache. GP regression is performed with ``sklearn`` default parameters, except for the *kernel* which here defaults to the radial basis function + a white kernel (both hyperparameters are internally optimized) and the assumed noise level ``alpha`` which is set to zero since we added a white kernel. These and other parameters can be set via the ``gp_params`` dictionary. See the documentation in ``sklearn`` for further discussion."
   ]
  },
  {
   "cell_type": "code",
   "execution_count": null,
   "metadata": {
    "collapsed": true
   },
   "outputs": [],
   "source": [
    "gpdc = GPDC(significance='analytic', gp_params=None)\n",
    "# gpdc.generate_and_save_nulldists(sample_sizes=range(495, 501),\n",
    "#     null_dist_filename='dc_nulldists.npz')\n",
    "gpdc.null_dist_filename ='dc_nulldists.npz'\n",
    "pcmci_gpdc = PCMCI(\n",
    "    dataframe=dataframe, \n",
    "    cond_ind_test=gpdc,\n",
    "    var_names=var_names,\n",
    "    verbosity=0)"
   ]
  },
  {
   "cell_type": "markdown",
   "metadata": {},
   "source": [
    "In contrast to ParCorr, the nonlinear links are correctly detected with GPDC:"
   ]
  },
  {
   "cell_type": "code",
   "execution_count": null,
   "metadata": {},
   "outputs": [],
   "source": [
    "results = pcmci_gpdc.run_pcmci(tau_max=2, pc_alpha=0.1)\n",
    "pcmci_gpdc._print_significant_links(\n",
    "        p_matrix = results['p_matrix'], \n",
    "        val_matrix = results['val_matrix'],\n",
    "        alpha_level = 0.01)"
   ]
  },
  {
   "cell_type": "markdown",
   "metadata": {},
   "source": [
    "As a short excursion, we can see how GPDC works looking at the scatter plots:"
   ]
  },
  {
   "cell_type": "code",
   "execution_count": null,
   "metadata": {},
   "outputs": [],
   "source": [
    "array, dymmy, dummy = gpdc._get_array(X=[(0, -1)], Y=[(2, 0)], Z=[(1, -2)], tau_max=2)\n",
    "x, meanx = gpdc._get_single_residuals(array, target_var=0, return_means=True)\n",
    "y, meany = gpdc._get_single_residuals(array, target_var=1, return_means=True)\n",
    "\n",
    "fig, axes = plt.subplots(nrows=1, ncols=3, figsize=(8,3))\n",
    "axes[0].scatter(array[2], array[0], color='grey')\n",
    "axes[0].scatter(array[2], meanx, color='black')\n",
    "axes[0].set_title(\"GP of %s on %s\" % (var_names[0], var_names[1]) )\n",
    "axes[0].set_xlabel(var_names[1]); axes[0].set_ylabel(var_names[0])\n",
    "axes[1].scatter(array[2], array[1], color='grey')\n",
    "axes[1].scatter(array[2], meany, color='black')\n",
    "axes[1].set_title(\"GP of %s on %s\" % (var_names[2], var_names[1]) )\n",
    "axes[1].set_xlabel(var_names[1]); axes[1].set_ylabel(var_names[2])\n",
    "axes[2].scatter(x, y, color='red')\n",
    "axes[2].set_title(\"DC of residuals:\" \"\\n val=%.3f / p-val=%.3f\" % (gpdc.run_test(\n",
    "            X=[(0, -1)], Y=[(2, 0)], Z=[(1, -2)], tau_max=2)) )\n",
    "axes[2].set_xlabel(\"resid. \"+var_names[0]); axes[2].set_ylabel(\"resid. \"+var_names[2])\n",
    "plt.tight_layout()"
   ]
  },
  {
   "cell_type": "markdown",
   "metadata": {},
   "source": [
    "Let's look at some even more nonlinear dependencies in a model with multiplicative noise:"
   ]
  },
  {
   "cell_type": "code",
   "execution_count": null,
   "metadata": {},
   "outputs": [],
   "source": [
    "numpy.random.seed(42)\n",
    "data = numpy.random.randn(500, 3)\n",
    "for t in range(1, 500):\n",
    "    data[t, 0] *= 0.2*data[t-1, 1]\n",
    "    data[t, 2] *= 0.3*data[t-2, 1]\n",
    "dataframe = pp.DataFrame(data)\n",
    "tp.plot_timeseries(data, var_names=var_names)"
   ]
  },
  {
   "cell_type": "markdown",
   "metadata": {},
   "source": [
    "Since multiplicative noise violates the assumption of additive dependencies underlying GPDC, the spurious link  $X^0_{t-1} \\to X^2_t$ is wrongly detected because it cannot be *conditioned out*. In contrast to ParCorr, however, the two true links *are* detected because DC detects any kind of dependency:"
   ]
  },
  {
   "cell_type": "code",
   "execution_count": null,
   "metadata": {},
   "outputs": [],
   "source": [
    "pcmci_gpdc = PCMCI(\n",
    "    dataframe=dataframe, \n",
    "    cond_ind_test=gpdc,\n",
    "    var_names=var_names)\n",
    "results = pcmci_gpdc.run_pcmci(tau_max=2, pc_alpha=0.1)\n",
    "pcmci_gpdc._print_significant_links(\n",
    "        p_matrix = results['p_matrix'], \n",
    "        val_matrix = results['val_matrix'],\n",
    "        alpha_level = 0.01)"
   ]
  },
  {
   "cell_type": "markdown",
   "metadata": {},
   "source": [
    "### CMIknn\n",
    "\n",
    "The most general conditional independence test implemented in Tigramite is CMIknn based on conditional mutual information estimated with a k-nearest neighbor estimator. CMIknn involves no assumptions about the dependencies. The parameter ``knn`` determines the size of hypercubes, ie., the (data-adaptive) local length-scale. Now we cannot even pre-compute the null distribution because CMIknn is not residual-based like GPDC and the nulldistribution depends on many more factors. We, therefore, use ``significance='shuffle_test'`` to generate it in each individual test. The following cell may take some minutes."
   ]
  },
  {
   "cell_type": "code",
   "execution_count": null,
   "metadata": {
    "collapsed": true
   },
   "outputs": [],
   "source": [
    "# cmi_knn = CMIknn(significance='shuffle_test', knn=50)\n",
    "# pcmci_cmi_knn = PCMCI(\n",
    "#     dataframe=dataframe, \n",
    "#     cond_ind_test=cmi_knn,\n",
    "#     var_names=var_names,\n",
    "#     verbosity=2)\n",
    "# results = pcmci_cmi_knn.run_pcmci(tau_max=2, pc_alpha=0.05)\n",
    "# pcmci_cmi_knn._print_significant_links(\n",
    "#         p_matrix = results['p_matrix'], \n",
    "#         val_matrix = results['val_matrix'],\n",
    "#         alpha_level = 0.01)"
   ]
  },
  {
   "cell_type": "code",
   "execution_count": null,
   "metadata": {
    "collapsed": true
   },
   "outputs": [],
   "source": [
    "## Significant parents at alpha = 0.01:\n",
    "\n",
    "#     Variable $X^0$ has 1 parent(s):\n",
    "#         ($X^1$ -1): pval = 0.00000 | val = 0.106\n",
    "\n",
    "#     Variable $X^1$ has 0 parent(s):\n",
    "\n",
    "#     Variable $X^2$ has 1 parent(s):\n",
    "#         ($X^1$ -2): pval = 0.00000 | val = 0.056"
   ]
  },
  {
   "cell_type": "markdown",
   "metadata": {},
   "source": [
    "Here CMIknn correctly detects the true links and also unveils the spurious link. While CMIknn may now seem as the best independence test choice, we have to note that the generality comes at the cost of much lower power for the case that the dependencies actually follow some parametric form. Then ParCorr or GPDC are much more powerful measures. Of course, ParCorr also detects linear links better than GPDC. "
   ]
  },
  {
   "cell_type": "markdown",
   "metadata": {},
   "source": [
    "## 4. Symbolic time series\n",
    "\n",
    "Symbolic (or discrete) data may arise naturally or continuously-valued time series can be converted to symbolic data. To accommodate such time series, Tigramite includes the ``CMIsymb`` conditional independence test based on conditional mutual information estimated directly from the histogram of discrete values. Usually a (quantile-)binning  applied to continuous data in order to use a discrete CMI estimator is not recommended (rather use ``CMIknn``), but here we do it anyway to get some symbolic data. We again consider the nonlinear time series example and convert to a symbolic series with 4 bins."
   ]
  },
  {
   "cell_type": "code",
   "execution_count": null,
   "metadata": {},
   "outputs": [],
   "source": [
    "numpy.random.seed(1)\n",
    "data = numpy.random.randn(2000, 3)\n",
    "for t in range(1, 2000):\n",
    "    data[t, 0] += 0.4*data[t-1, 1]**2\n",
    "    data[t, 2] += 0.3*data[t-2, 1]**2\n",
    "data = pp.quantile_bin_array(data, bins=4)\n",
    "dataframe = pp.DataFrame(data)\n",
    "tp.plot_timeseries(data, figsize=(10,4), var_names=var_names)"
   ]
  },
  {
   "cell_type": "markdown",
   "metadata": {},
   "source": [
    "CMIsymb is initialized with ``n_symbs=None`` implying that the number of symbols is determined as ``n_symbs=data.max()+1``. Again, we have to use a shuffle test. Symbolic CMI works not very well here, only for 2000 samples was the correct graph reliably detected."
   ]
  },
  {
   "cell_type": "code",
   "execution_count": null,
   "metadata": {
    "collapsed": true
   },
   "outputs": [],
   "source": [
    "# cmi_symb = CMIsymb(significance='shuffle_test', n_symbs=None)\n",
    "# pcmci_cmi_symb = PCMCI(\n",
    "#     dataframe=dataframe, \n",
    "#     cond_ind_test=cmi_symb,\n",
    "#     var_names=var_names)\n",
    "# results = pcmci_cmi_symb.run_pcmci(tau_max=2, pc_alpha=0.2)\n",
    "# pcmci_cmi_symb._print_significant_links(\n",
    "#         p_matrix = results['p_matrix'], \n",
    "#         val_matrix = results['val_matrix'],\n",
    "#         alpha_level = 0.01)"
   ]
  },
  {
   "cell_type": "code",
   "execution_count": null,
   "metadata": {
    "collapsed": true
   },
   "outputs": [],
   "source": [
    "## Significant parents at alpha = 0.01:\n",
    "\n",
    "#     Variable $X^0$ has 1 parent(s):\n",
    "#         ($X^1$ -1): pval = 0.00000 | val = 0.040\n",
    "\n",
    "#     Variable $X^1$ has 0 parent(s):\n",
    "\n",
    "#     Variable $X^2$ has 1 parent(s):\n",
    "#         ($X^1$ -2): pval = 0.00000 | val = 0.036"
   ]
  },
  {
   "cell_type": "markdown",
   "metadata": {},
   "source": [
    "## 5. Causal assumptions\n",
    "\n",
    "Having introduced the basic functionality, we now turn to a discussion of the assumptions underlying a causal interpretation:\n",
    "\n",
    "  - **Faithfulness / Stableness:** *Independencies in data arise not from incredible coincidence, but rather from causal structure.*\n",
    "  \n",
    "  - **Causal Sufficiency:** *Measured variables include all of the common causes.*\n",
    "  \n",
    "  - **Causal Markov Condition:** *All the relevant probabilistic information that can be obtained from the system is contained in its direct causes.*\n",
    "  \n",
    "  - **No contemporaneous effects:** *Contemporaneous dependencies arise only from latent common drivers*\n",
    "  \n",
    "  - **Stationarity**\n",
    "  \n",
    "  - **Parametric assumptions of independence tests** (these where already discussed above)*"
   ]
  },
  {
   "cell_type": "markdown",
   "metadata": {},
   "source": [
    "### Faithfulness\n",
    "\n",
    "Faithfulness, as stated above, is an expression of the assumption that the independencies we measure come from the causal structure, i.e., the time series graph, and cannot occur due to some fine tuning of the parameters. Another unfaithful case are processes containing *purely* deterministic dependencies, i.e., $Y=f(X)$, without any noise. We illustrate these cases in the following.\n",
    "\n",
    "#### Fine tuning\n",
    "\n",
    "Suppose in our model we have two ways in which $X^0$ causes $X^2$, a direct one, and an indirect effect $X^0\\to X^1 \\to X^2$ as realized in the following model:\n",
    "\n",
    "\\begin{align*}\n",
    "    X^0_t &= \\eta^0_t\\\\\n",
    "    X^1_t &= 0.6 X^0_{t-1} + \\eta^1_t\\\\\n",
    "    X^2_t &= 0.6 X^1_{t-1} - 0.36 X^0_{t-2} + \\eta^2_t\\\\\n",
    "\\end{align*}"
   ]
  },
  {
   "cell_type": "code",
   "execution_count": null,
   "metadata": {
    "collapsed": true
   },
   "outputs": [],
   "source": [
    "numpy.random.seed(1)\n",
    "data = numpy.random.randn(500, 3)\n",
    "for t in range(1, 500):\n",
    "#     data[t, 0] += 0.6*data[t-1, 1]\n",
    "    data[t, 1] += 0.6*data[t-1, 0]\n",
    "    data[t, 2] += 0.6*data[t-1, 1] - 0.36*data[t-2, 0]\n",
    "dataframe = pp.DataFrame(data)\n",
    "# tp.plot_timeseries(data, var_names=var_names)"
   ]
  },
  {
   "cell_type": "markdown",
   "metadata": {},
   "source": [
    "Since here $X^2_t = 0.6 X^1_{t-1} - 0.36 X^0_{t-2} + \\eta^2_t = 0.6 (0.6 X^0_{t-2} + \\eta^1_{t-1}) - 0.36 X^0_{t-2} + \\eta^2_t = 0.36 X^0_{t-2} - 0.36 X^0_{t-2} + ...$, there is no unconditional dependency $X^0_{t-2} \\to X^2_t$ and the link is not detected in the condition-selection step: "
   ]
  },
  {
   "cell_type": "code",
   "execution_count": null,
   "metadata": {},
   "outputs": [],
   "source": [
    "parcorr = ParCorr()\n",
    "pcmci_parcorr = PCMCI(\n",
    "    dataframe=dataframe, \n",
    "    cond_ind_test=parcorr,\n",
    "    var_names=var_names,\n",
    "    verbosity=0)\n",
    "all_parents = pcmci_parcorr.run_pc_stable(tau_max=2, pc_alpha=0.2)\n",
    "print (\"Conditions:\")\n",
    "pcmci_parcorr._print_parents(all_parents, pcmci_parcorr.test_statistic_values, pcmci_parcorr.p_max)"
   ]
  },
  {
   "cell_type": "markdown",
   "metadata": {},
   "source": [
    "However, since the other parent of $X^2$, namely $X^1_{t-1}$ *is* detected, the MCI step conditions on $X^1_{t-1}$ and can reveal the true underlying graph:"
   ]
  },
  {
   "cell_type": "code",
   "execution_count": null,
   "metadata": {},
   "outputs": [],
   "source": [
    "results = pcmci_parcorr.run_pcmci(tau_max=2, pc_alpha=0.2)\n",
    "pcmci_parcorr._print_significant_links(\n",
    "        p_matrix = results['p_matrix'], \n",
    "        val_matrix = results['val_matrix'],\n",
    "        alpha_level = 0.01)"
   ]
  },
  {
   "cell_type": "markdown",
   "metadata": {},
   "source": [
    "Note, however, that this is not always the case and parameter-fine tuning, even though a pathological case, can present a problem especially for smaller sample sizes."
   ]
  },
  {
   "cell_type": "markdown",
   "metadata": {},
   "source": [
    "#### Deterministic dependencies\n",
    "\n",
    "Another violation of faithfulness can happen due to *purely* deterministic dependencies as shown here:"
   ]
  },
  {
   "cell_type": "code",
   "execution_count": null,
   "metadata": {},
   "outputs": [],
   "source": [
    "numpy.random.seed(1)\n",
    "data = numpy.random.randn(500, 3)\n",
    "for t in range(1, 500):\n",
    "    data[t, 0] = 0.4*data[t-1, 1]\n",
    "    data[t, 2] += 0.3*data[t-2, 1] + 0.7*data[t-1, 0]\n",
    "dataframe = pp.DataFrame(data)\n",
    "tp.plot_timeseries(data, var_names=var_names)"
   ]
  },
  {
   "cell_type": "code",
   "execution_count": null,
   "metadata": {},
   "outputs": [],
   "source": [
    "parcorr = ParCorr()\n",
    "pcmci_parcorr = PCMCI(\n",
    "    dataframe=dataframe, \n",
    "    cond_ind_test=parcorr,\n",
    "    var_names=var_names,\n",
    "    verbosity=0)\n",
    "results = pcmci_parcorr.run_pcmci(tau_max=2, pc_alpha=0.2)\n",
    "pcmci_parcorr._print_significant_links(\n",
    "        p_matrix = results['p_matrix'], \n",
    "        val_matrix = results['val_matrix'],\n",
    "        alpha_level = 0.01)"
   ]
  },
  {
   "cell_type": "markdown",
   "metadata": {},
   "source": [
    "Here the partial correlation $X^1_{t-1} \\to X^0_t$ is exactly 1. Since these now represent the same variable, the true link $X^0_{t-1} \\to X^0_t$ cannot be detected anymore since we condition on $X^0_{t-2}$. Deterministic copies of other variables should be excluded from the analysis."
   ]
  },
  {
   "cell_type": "markdown",
   "metadata": {},
   "source": [
    "### Causal sufficiency\n",
    "\n",
    "Causal sufficiency demands that the set of variables contains all common causes of any two variables. This is assumption is mostly violated when analyzing open complex systems outside a confined experimental setting. Any link estimated from a causal discovery algorithm could become non-significant if more variables are included in the analysis. \n",
    "Observational causal inference should generally be seen more as one step towards a physical process understanding. It can greatly help in an explorative model building analysis to get an idea of potential drivers. In particular, the absence of a link allows for a more robust conclusion: If there is no evidence for a statistical dependency, then a physical mechanism is less likely (assuming that the other assumptions hold).\n",
    "\n",
    "#### Unobserved driver / latent variable\n",
    "\n",
    "For the common driver process, consider that the common driver was not measured:"
   ]
  },
  {
   "cell_type": "code",
   "execution_count": null,
   "metadata": {
    "collapsed": true
   },
   "outputs": [],
   "source": [
    "numpy.random.seed(1)\n",
    "data = numpy.random.randn(500, 3)\n",
    "for t in range(1, 500):\n",
    "    data[t, 0] += 0.6*data[t-1, 1]\n",
    "    data[t, 2] += 0.7*data[t-2, 1]\n",
    "# tp.plot_timeseries(data, var_names=var_names)\n",
    "obsdata = data[:,[0,2]]\n",
    "# tp.plot_timeseries(obsdata, var_names=[var_names[0], var_names[2]])\n",
    "dataframe = pp.DataFrame(obsdata)"
   ]
  },
  {
   "cell_type": "markdown",
   "metadata": {},
   "source": [
    "Then it is impossible here to detect that the link $X^0\\to X^2$ is spurious."
   ]
  },
  {
   "cell_type": "code",
   "execution_count": null,
   "metadata": {},
   "outputs": [],
   "source": [
    "parcorr = ParCorr()\n",
    "pcmci_parcorr = PCMCI(\n",
    "    dataframe=dataframe, \n",
    "    cond_ind_test=parcorr,\n",
    "    var_names=[var_names[0], var_names[2]],\n",
    "    verbosity=0)\n",
    "results = pcmci_parcorr.run_pcmci(tau_max=2, pc_alpha=0.2)\n",
    "pcmci_parcorr._print_significant_links(\n",
    "        p_matrix = results['p_matrix'], \n",
    "        val_matrix = results['val_matrix'],\n",
    "        alpha_level = 0.01)"
   ]
  },
  {
   "cell_type": "markdown",
   "metadata": {},
   "source": [
    "#### Solar forcing\n",
    "\n",
    "In a geoscientific context, the solar forcing typically is a strong common driver of many processes. To remove this trivial effect, time series are typically anomalized, that is, the average seasonal cycle is subtracted. But one could also include the solar forcing explicitely as shown here via a sine wave for an artificial example. We've also made the time series more realistic by adding an auto-dependency on their past values."
   ]
  },
  {
   "cell_type": "code",
   "execution_count": null,
   "metadata": {},
   "outputs": [],
   "source": [
    "numpy.random.seed(1)\n",
    "data = numpy.random.randn(1000, 4)\n",
    "# Simple sun\n",
    "data[:,3] = numpy.sin(numpy.arange(1000)*20/numpy.pi)\n",
    "var_names[3] = 'Sun'\n",
    "c = 0.8\n",
    "for t in range(1, 1000):\n",
    "    data[t, 0] += 0.4*data[t-1, 0] + 0.4*data[t-1, 1] + c*data[t-1,3]\n",
    "    data[t, 1] += 0.5*data[t-1, 1] + c*data[t-1,3]\n",
    "    data[t, 2] += 0.6*data[t-1, 2] + 0.3*data[t-2, 1] + c*data[t-1,3]\n",
    "dataframe = pp.DataFrame(data)\n",
    "tp.plot_timeseries(data, var_names=var_names)"
   ]
  },
  {
   "cell_type": "markdown",
   "metadata": {},
   "source": [
    "If we do not account for the common solar forcing, there will be many spurious links:"
   ]
  },
  {
   "cell_type": "code",
   "execution_count": null,
   "metadata": {},
   "outputs": [],
   "source": [
    "parcorr = ParCorr()\n",
    "dataframe_nosun = pp.DataFrame(data[:,[0,1,2]])\n",
    "pcmci_parcorr = PCMCI(\n",
    "    selected_variables = [0,1,2],\n",
    "    dataframe=dataframe_nosun, \n",
    "    cond_ind_test=parcorr,\n",
    "    var_names=var_names,\n",
    "    verbosity=0)\n",
    "results = pcmci_parcorr.run_pcmci(tau_max=2, pc_alpha=0.2)\n",
    "pcmci_parcorr._print_significant_links(\n",
    "        p_matrix = results['p_matrix'], \n",
    "        val_matrix = results['val_matrix'],\n",
    "        alpha_level = 0.01)"
   ]
  },
  {
   "cell_type": "markdown",
   "metadata": {},
   "source": [
    "However, if we explicitely include the solar forcing variable (which we assume is known in this case), we can identify the correct causal graph. Since we are not interested in the drivers of the solar forcing variable, we don't attempt to reconstruct its parents."
   ]
  },
  {
   "cell_type": "code",
   "execution_count": null,
   "metadata": {},
   "outputs": [],
   "source": [
    "parcorr = ParCorr()\n",
    "pcmci_parcorr = PCMCI(\n",
    "    selected_variables = [0,1,2],\n",
    "    dataframe=dataframe, \n",
    "    cond_ind_test=parcorr,\n",
    "    var_names=var_names,\n",
    "    verbosity=0)\n",
    "results = pcmci_parcorr.run_pcmci(tau_max=2, pc_alpha=0.2)\n",
    "pcmci_parcorr._print_significant_links(\n",
    "        p_matrix = results['p_matrix'], \n",
    "        val_matrix = results['val_matrix'],\n",
    "        alpha_level = 0.01)"
   ]
  },
  {
   "cell_type": "markdown",
   "metadata": {},
   "source": [
    "#### Time sub-sampling\n",
    "\n",
    "Sometimes a time series might be sub-sampled, that is the measurements are less frequent than the true underlying time-dependency. Consider the following process:"
   ]
  },
  {
   "cell_type": "code",
   "execution_count": null,
   "metadata": {},
   "outputs": [],
   "source": [
    "numpy.random.seed(1)\n",
    "data = numpy.random.randn(1000, 3)\n",
    "for t in range(1, 1000):\n",
    "    data[t, 0] += 0.*data[t-1, 0] + 0.6*data[t-1,2]\n",
    "    data[t, 1] += 0.*data[t-1, 1] + 0.6*data[t-1,0]\n",
    "    data[t, 2] += 0.*data[t-1, 2] + 0.6*data[t-1,1]\n",
    "dataframe = pp.DataFrame(data)\n",
    "tp.plot_timeseries(data, var_names=var_names)"
   ]
  },
  {
   "cell_type": "markdown",
   "metadata": {},
   "source": [
    "With the original time sampling we obtain the correct causal graph:"
   ]
  },
  {
   "cell_type": "code",
   "execution_count": null,
   "metadata": {},
   "outputs": [],
   "source": [
    "pcmci_parcorr = PCMCI(dataframe=dataframe, cond_ind_test=ParCorr(), var_names=var_names)\n",
    "results = pcmci_parcorr.run_pcmci(tau_min=0,tau_max=2, pc_alpha=0.2)\n",
    "pcmci_parcorr._print_significant_links(\n",
    "        p_matrix = results['p_matrix'], \n",
    "        val_matrix = results['val_matrix'],\n",
    "        alpha_level = 0.01)"
   ]
  },
  {
   "cell_type": "code",
   "execution_count": null,
   "metadata": {},
   "outputs": [],
   "source": [
    "link_matrix = pcmci_parcorr._return_significant_parents(pq_matrix=results['p_matrix'],\n",
    "                        val_matrix=results['val_matrix'], alpha_level=0.01)['link_matrix']\n",
    "# Plot time series graph\n",
    "tp.plot_time_series_graph(\n",
    "    figsize=(6, 3),\n",
    "    val_matrix=results['val_matrix'],\n",
    "    link_matrix=link_matrix,\n",
    "    var_names=var_names,\n",
    "    link_colorbar_label='MCI',\n",
    "    )"
   ]
  },
  {
   "cell_type": "markdown",
   "metadata": {},
   "source": [
    "If we sub-sample the data, very counter-intuitive links can appear. The true causal loop gets detected in the wrong direction:"
   ]
  },
  {
   "cell_type": "code",
   "execution_count": null,
   "metadata": {},
   "outputs": [],
   "source": [
    "sampled_data = data[::2]\n",
    "pcmci_parcorr = PCMCI(dataframe=pp.DataFrame(sampled_data), cond_ind_test=ParCorr(), \n",
    "                      var_names=var_names, verbosity=0)\n",
    "results = pcmci_parcorr.run_pcmci(tau_min=0, tau_max=2, pc_alpha=0.2)\n",
    "link_matrix = pcmci_parcorr._return_significant_parents(pq_matrix=results['p_matrix'],\n",
    "                        val_matrix=results['val_matrix'], alpha_level=0.01)['link_matrix']\n",
    "# Plot time series graph\n",
    "tp.plot_time_series_graph(\n",
    "    figsize=(6, 3),\n",
    "    val_matrix=results['val_matrix'],\n",
    "    link_matrix=link_matrix,\n",
    "    var_names=var_names,\n",
    "    link_colorbar_label='MCI',\n",
    "    )"
   ]
  },
  {
   "cell_type": "markdown",
   "metadata": {},
   "source": [
    "If causal lags are smaller than the time sampling, such problems occur. Causal inference for sub-sampled data is still an active area of research."
   ]
  },
  {
   "cell_type": "markdown",
   "metadata": {},
   "source": [
    "### Causal Markov condition\n",
    "\n",
    "The Markov condition can be rephrased as assuming that the noises driving each variable are independent of each other *and* independent in time (*iid*). This is violated in the following example where each variable is driven by *1/f* noise which refers to the scaling of the power spectrum. *1/f* noise can be generated by averaging AR(1) processes (http://www.scholarpedia.org/article/1/f_noise) which means that the noise is not independent in time anymore (even though the noise terms of each individual variable are still independent)."
   ]
  },
  {
   "cell_type": "code",
   "execution_count": null,
   "metadata": {},
   "outputs": [],
   "source": [
    "numpy.random.seed(1)\n",
    "T = 10000\n",
    "# Generate 1/f noise by averaging AR1-process with wide range of coeffs \n",
    "# (http://www.scholarpedia.org/article/1/f_noise)\n",
    "def one_over_f_noise(T, n_ar=20):\n",
    "    whitenoise = numpy.random.randn(T, n_ar)\n",
    "    ar_coeffs = numpy.linspace(0.1, 0.9, n_ar)\n",
    "    for t in range(T):\n",
    "        whitenoise[t] += ar_coeffs*whitenoise[t-1]       \n",
    "    return whitenoise.sum(axis=1)\n",
    "\n",
    "data = numpy.random.randn(T, 3)\n",
    "data[:,0] += one_over_f_noise(T)\n",
    "data[:,1] += one_over_f_noise(T)\n",
    "data[:,2] += one_over_f_noise(T)\n",
    "\n",
    "for t in range(1, T):\n",
    "    data[t, 0] +=  0.4*data[t-1, 1] \n",
    "    data[t, 2] +=  0.3*data[t-2, 1] \n",
    "dataframe = pp.DataFrame(data)\n",
    "tp.plot_timeseries(data, var_names=var_names)\n",
    "plt.psd(data[:,0],return_line=True)[2]\n",
    "plt.psd(data[:,1],return_line=True)[2]\n",
    "plt.psd(data[:,2],return_line=True)[2]\n",
    "plt.gca().set_xscale(\"log\", nonposx='clip')\n",
    "plt.gca().set_yscale(\"log\", nonposy='clip')"
   ]
  },
  {
   "cell_type": "markdown",
   "metadata": {},
   "source": [
    "Here PCMCI will detect many spurious links, especially auto-dependencies, since the process has *long memory* and the present state is *not* independent of the further past given some set of parents. "
   ]
  },
  {
   "cell_type": "code",
   "execution_count": null,
   "metadata": {},
   "outputs": [],
   "source": [
    "parcorr = ParCorr()\n",
    "pcmci_parcorr = PCMCI(\n",
    "    dataframe=dataframe, \n",
    "    cond_ind_test=parcorr,\n",
    "    var_names=var_names,\n",
    "    verbosity=0)\n",
    "results = pcmci_parcorr.run_pcmci(tau_max=5, pc_alpha=0.2)\n",
    "pcmci_parcorr._print_significant_links(\n",
    "        p_matrix = results['p_matrix'], \n",
    "        val_matrix = results['val_matrix'],\n",
    "        alpha_level = 0.01)"
   ]
  },
  {
   "cell_type": "markdown",
   "metadata": {},
   "source": [
    "#### Time aggregation\n",
    "\n",
    "An important choice is how to aggregate measured time series. For example, climate time series might have been measured daily, but one might be interested in a less noisy time-scale and analyze monthly aggregates. Consider the following process:"
   ]
  },
  {
   "cell_type": "code",
   "execution_count": null,
   "metadata": {},
   "outputs": [],
   "source": [
    "numpy.random.seed(1)\n",
    "data = numpy.random.randn(1000, 3)\n",
    "for t in range(1, 1000):\n",
    "    data[t, 0] += 0.7*data[t-1, 0] \n",
    "    data[t, 1] += 0.6*data[t-1, 1] + 0.6*data[t-1,0]\n",
    "    data[t, 2] += 0.5*data[t-1, 2] + 0.6*data[t-1,1]\n",
    "dataframe = pp.DataFrame(data)\n",
    "tp.plot_timeseries(data, var_names=var_names)"
   ]
  },
  {
   "cell_type": "markdown",
   "metadata": {},
   "source": [
    "With the original time aggregation we obtain the correct causal graph:"
   ]
  },
  {
   "cell_type": "code",
   "execution_count": null,
   "metadata": {},
   "outputs": [],
   "source": [
    "pcmci_parcorr = PCMCI(dataframe=dataframe, cond_ind_test=ParCorr(), var_names=var_names)\n",
    "results = pcmci_parcorr.run_pcmci(tau_min=0,tau_max=2, pc_alpha=0.2)\n",
    "pcmci_parcorr._print_significant_links(\n",
    "        p_matrix = results['p_matrix'], \n",
    "        val_matrix = results['val_matrix'],\n",
    "        alpha_level = 0.01)"
   ]
  },
  {
   "cell_type": "code",
   "execution_count": null,
   "metadata": {},
   "outputs": [],
   "source": [
    "link_matrix = pcmci_parcorr._return_significant_parents(pq_matrix=results['p_matrix'],\n",
    "                        val_matrix=results['val_matrix'], alpha_level=0.01)['link_matrix']\n",
    "# Plot time series graph\n",
    "tp.plot_time_series_graph(\n",
    "    figsize=(6, 3),\n",
    "    val_matrix=results['val_matrix'],\n",
    "    link_matrix=link_matrix,\n",
    "    var_names=var_names,\n",
    "    link_colorbar_label='MCI',\n",
    "    )"
   ]
  },
  {
   "cell_type": "markdown",
   "metadata": {},
   "source": [
    "If we aggregate the data, we also detect a contemporaneous dependency for which no causal direction can be assessed in this framework and we obtain also several lagged spurious links. Essentially, we now have direct causal effects that appear contemporaneous on the aggregated time scale. Also causal inference for time-aggregated data is still an active area of research."
   ]
  },
  {
   "cell_type": "code",
   "execution_count": null,
   "metadata": {
    "collapsed": true
   },
   "outputs": [],
   "source": [
    "aggregated_data = pp.time_bin_with_mask(data, time_bin_length=4)\n",
    "pcmci_parcorr = PCMCI(dataframe=pp.DataFrame(aggregated_data[0]), cond_ind_test=ParCorr(), \n",
    "                      var_names=var_names, verbosity=0)\n",
    "results = pcmci_parcorr.run_pcmci(tau_min=0, tau_max=2, pc_alpha=0.2)\n",
    "# pcmci_parcorr._print_significant_links(\n",
    "#         p_matrix = results['p_matrix'], \n",
    "#         val_matrix = results['val_matrix'],\n",
    "#         alpha_level = 0.01)"
   ]
  },
  {
   "cell_type": "code",
   "execution_count": null,
   "metadata": {},
   "outputs": [],
   "source": [
    "link_matrix = pcmci_parcorr._return_significant_parents(pq_matrix=results['p_matrix'],\n",
    "                        val_matrix=results['val_matrix'], alpha_level=0.01)['link_matrix']\n",
    "# Plot time series graph\n",
    "tp.plot_time_series_graph(\n",
    "    figsize=(6, 3),\n",
    "    val_matrix=results['val_matrix'],\n",
    "    link_matrix=link_matrix,\n",
    "    var_names=var_names,\n",
    "    link_colorbar_label='MCI',\n",
    "    )"
   ]
  },
  {
   "cell_type": "markdown",
   "metadata": {},
   "source": [
    "## Missing values and masking\n",
    "\n",
    "### Missing values\n",
    "\n",
    "Tigramite consistently handles missing values. For example, missing values denoted as ``999.`` in the data can be flagged with ``ParCorr.set_dataframe(data, missing_flag=999.)``. Then all time slices of samples where missing values occur in any variable are dismissed while consistently handling time lags. To avoid biases also subsequent samples for all lags up to ``2*tau_max`` are dismissed, see section on masking in Supplement of description paper. "
   ]
  },
  {
   "cell_type": "code",
   "execution_count": null,
   "metadata": {},
   "outputs": [],
   "source": [
    "numpy.random.seed(1)\n",
    "data = numpy.random.randn(100, 3)\n",
    "for t in range(1, 100):\n",
    "    data[t, 0] += 0.7*data[t-1, 0] \n",
    "    data[t, 1] += 0.6*data[t-1, 1] + 0.6*data[t-1,0]\n",
    "    data[t, 2] += 0.5*data[t-1, 2] + 0.6*data[t-1,1]\n",
    "# Randomly mark 30% of values as missing values in variable 2\n",
    "data[numpy.random.permutation(100)[:10], 2] = 999.\n",
    "tp.plot_timeseries(data, missing_flag=999., var_names=var_names)\n",
    "dataframe = pp.DataFrame(data, missing_flag=999.)\n",
    "pcmci_parcorr = PCMCI(dataframe=dataframe, cond_ind_test=ParCorr(verbosity=3), \n",
    "                      var_names=var_names, verbosity=4)\n",
    "results = pcmci_parcorr.run_pcmci(tau_max=2, pc_alpha=0.2)\n",
    "pcmci_parcorr._print_significant_links(\n",
    "        p_matrix = results['p_matrix'], \n",
    "        val_matrix = results['val_matrix'],\n",
    "        alpha_level = 0.01)"
   ]
  },
  {
   "cell_type": "markdown",
   "metadata": {},
   "source": [
    "### Masking\n",
    "\n",
    "Different from missing values, masking can be used to include or exclude samples depending on the situation: For example, in climate research we frequently are interested to detect the drivers of a target variable *only in winter months*. Thus, in all independent tests $X \\perp Y | Z$ carried out during a PCMCI analysis, we require samples of $Y$ to be from the winter only, while lagged samples of $X$ or $Z$ can also come from the previous summer. This can be achieved with ``mask_type='y'`` in initializing ``ParCorr``' and marking all winter month data in $Y$ in ``mask``. If we want *all* samples, also in $X$ and $Z$ to be restricted to winter months, we need to mark them in ``mask`` as well and set  ``mask_type='yxz'``. Correspondingly, also  ``mask_type='z'`` or any combination is possible. See the section on masking in the Supplement of the description paper for more details.\n",
    "\n",
    "In the following example, we generate data with a different underlying causality for winter and summer months. In particular, assume a causal effect is of opposite sign in both seasons."
   ]
  },
  {
   "cell_type": "code",
   "execution_count": null,
   "metadata": {},
   "outputs": [],
   "source": [
    "# Masking demo: We consider time series where the first half is generated by a different\n",
    "# causal process than the second half. \n",
    "numpy.random.seed(42)\n",
    "T = 1000\n",
    "data = numpy.random.randn(T, 2)\n",
    "data_mask = numpy.zeros(data.shape)\n",
    "for t in range(1, T):\n",
    "#     print t % 365\n",
    "    if (t % 365) < 3*30 or (t % 365) > 8*30: \n",
    "        # Winter half year\n",
    "        data[t, 0] +=  0.4*data[t-1, 0]\n",
    "        data[t, 1] +=  0.3*data[t-1, 1] + 0.9*data[t-1, 0]\n",
    "    else:\n",
    "        # Summer half year\n",
    "        data_mask[[t, t-1]] = True\n",
    "        data[t, 0] +=  0.4*data[t-1, 0]\n",
    "        data[t, 1] +=  0.3*data[t-1, 1] - 0.9*data[t-1, 0]\n",
    "\n",
    "T, N = data.shape\n",
    "# print data_mask[:100, 0]\n",
    "dataframe = pp.DataFrame(data, mask=data_mask)\n",
    "tp.plot_timeseries(data, figsize=(8,3),  var_names=var_names, use_mask=True, mask=data_mask, \n",
    "                             grey_masked_samples='data')\n"
   ]
  },
  {
   "cell_type": "code",
   "execution_count": null,
   "metadata": {
    "collapsed": true
   },
   "outputs": [],
   "source": [
    "# Setup analysis\n",
    "def run_and_plot(cond_ind_test, fig_ax):\n",
    "    pcmci = PCMCI(dataframe=dataframe, cond_ind_test=cond_ind_test, var_names=var_names)\n",
    "    results = pcmci.run_pcmci(tau_max=2,pc_alpha=0.2, )\n",
    "    link_matrix = pcmci._return_significant_parents(pq_matrix=results['p_matrix'],\n",
    "            val_matrix=results['val_matrix'], alpha_level=0.01)['link_matrix']\n",
    "    tp.plot_graph(fig_ax = fig_ax,  val_matrix=results['val_matrix'],\n",
    "                  link_matrix=link_matrix, var_names=var_names,\n",
    "    )"
   ]
  },
  {
   "cell_type": "code",
   "execution_count": null,
   "metadata": {},
   "outputs": [],
   "source": [
    "# Causal graph of whole year yields no link because effects average out\n",
    "fig  = plt.figure(figsize=(3,2)); ax=fig.add_subplot(111)\n",
    "run_and_plot(ParCorr(use_mask=False), (fig, ax))\n",
    "\n",
    "# # Causal graph of winter half only gives positive link\n",
    "fig  = plt.figure(figsize=(3,2)); ax=fig.add_subplot(111)\n",
    "run_and_plot(ParCorr(use_mask=True, mask_type='y'), (fig, ax))\n",
    "\n",
    "# Causal graph of summer half only gives negative link\n",
    "fig  = plt.figure(figsize=(3,2)); ax=fig.add_subplot(111)\n",
    "dataframe.mask = (dataframe.mask == False)\n",
    "run_and_plot(ParCorr(use_mask=True, mask_type='y'),  (fig, ax))\n"
   ]
  },
  {
   "cell_type": "markdown",
   "metadata": {
    "collapsed": true
   },
   "source": [
    "# 7. Parallization\n",
    "\n",
    "The repository also contains a script ``run_pcmci_parallel`` that parallelizes the tigramite PCMCI function. It requires ``mpi4py`` to be installed. The data and parameters can be set in the script itself and it can be run from a shell with:\n",
    "\n",
    "``$ mpirun -np 4 python run_pcmci_parallel.py``\n",
    "\n",
    "Here ``-np 4`` specifies the number of cores available. This script can be run on multiple processors on a single machine or also on a cluster computer."
   ]
  },
  {
   "cell_type": "markdown",
   "metadata": {
    "collapsed": true
   },
   "source": [
    "# 8. PCMCI vs One-step full conditioning aka Granger causality\n",
    "\n",
    "An alternative way to estimate the time series graph is to directly test links by their defining equation\n",
    "\n",
    "\\begin{align*}\n",
    "X^i_{t-\\tau} \\perp X^j_t ~|~ \\mathbf{X}^-_t\n",
    "\\end{align*}\n",
    "\n",
    "where $\\mathbf{X}^-_t=(\\mathbf{X}_{t-1}, \\mathbf{X}_{t-2}, \\ldots)$ is the past of the whole process. This is the approach of a *lag-specific* version of Granger causality (GC) or Transfer entropy. This approach gives lower detection power for two reasons:\n",
    "\n",
    "1. Smaller *effect size* of GC compared to MCI\n",
    "2. Higher dimensionality "
   ]
  },
  {
   "cell_type": "markdown",
   "metadata": {},
   "source": [
    "## 8.1 Smaller *effect size* of GC compared to MCI\n",
    "\n",
    "Consider the following system:\n",
    "\n",
    "\\begin{align*} \n",
    "Z_t &= a Z_{t-1} + c_{XZ} X_{t-1} + \\eta^Z_t  \\\\\n",
    "X_t &= a_{X} X_{t-1} + c_{WX} W_{t-1} + \\eta^X_t  \\\\\n",
    "Y_t &= a Y_{t-1} + c_{XY} X_{t-2} + c_{WY} W_{t-3} + \\eta^Y_t \\\\\n",
    "W_t &= a W_{t-1} + \\eta^W_t\n",
    "\\end{align*}\n",
    "\n",
    "with independent Gaussian white noise processes $\\eta^{\\cdot}_t$ with variances $\\sigma^2_{\\cdot}$. Considering the link $X_{t-2}\\to Y_t$, here it can be shown (see description paper) that the test statistic $I^{GC}(X_{t-2}\\to Y_t) \\leq I^{MCI}(X_{t-2}\\to Y_t)$ generally. In the paper this is proven for arbitrary models. Measuring a smaller effect size implies a lower power to detect this particular link:"
   ]
  },
  {
   "cell_type": "code",
   "execution_count": null,
   "metadata": {
    "collapsed": true
   },
   "outputs": [],
   "source": [
    "# Setup analysis\n",
    "numpy.random.seed(42)     # Fix random seed\n",
    "links_coeffs = {0: [((0, -1), 0.9), ((1, -2), -0.25)],\n",
    "                1: [((1, -1), 0.95), ((3, -3), 0.3)],\n",
    "                2: [((2, -1), 0.85), ((1, -2), 0.3), ((3, -3), 0.3)],\n",
    "                3: [((3, -1), 0.9)],\n",
    "                }\n",
    "T = 100     # time series length\n",
    "N = len(links_coeffs.keys())\n",
    "tau_max = 5\n",
    "realizations = 100\n",
    "alpha_level = 0.05\n",
    "\n",
    "var_names = [r'$Z$', r'$X$', r'$Y$', r'$W$']\n",
    "# Define whole past\n",
    "whole_past = {}\n",
    "for j in range(N):\n",
    "    whole_past[j] = [(var, -lag)\n",
    "                         for var in range(N)\n",
    "                         for lag in range(1, tau_max + 1)\n",
    "                    ]\n",
    "def get_sig_links():\n",
    "    p_matrices = {'PCMCI':numpy.ones((realizations, N, N, tau_max+1)),\n",
    "                  'GC':numpy.ones((realizations, N, N, tau_max+1))}\n",
    "    val_matrices = {'PCMCI':numpy.zeros((realizations, N, N, tau_max+1)),\n",
    "                  'GC':numpy.zeros((realizations, N, N, tau_max+1))}  \n",
    "    for i in range(realizations):\n",
    "        data, true_parents_neighbors = pp.var_process(links_coeffs, T=T)\n",
    "        dataframe = pp.DataFrame(data)\n",
    "        \n",
    "        # PCMCI\n",
    "        pcmci = PCMCI(dataframe=dataframe, cond_ind_test=ParCorr())\n",
    "        results = pcmci.run_pcmci(tau_max=tau_max, pc_alpha=0.2)\n",
    "        p_matrices['PCMCI'][i] = results['p_matrix']\n",
    "        val_matrices['PCMCI'][i] = results['val_matrix']\n",
    "\n",
    "        # Condition on whole past\n",
    "        results = pcmci.run_mci(tau_max=tau_max,parents=whole_past)\n",
    "        p_matrices['GC'][i] = results['p_matrix']\n",
    "        val_matrices['GC'][i] = results['val_matrix']\n",
    "\n",
    "    # Get true positive rate (=power) and false positive rate \n",
    "    sig_links = {'PCMCI':(p_matrices['PCMCI'] <= alpha_level).mean(axis=0),\n",
    "                  'GC':(p_matrices['GC'] <= alpha_level).mean(axis=0),}\n",
    "    ave_val_matrices = {'PCMCI':val_matrices['PCMCI'].mean(axis=0),\n",
    "                  'GC':val_matrices['GC'].mean(axis=0),}\n",
    "    return sig_links, ave_val_matrices\n",
    "\n"
   ]
  },
  {
   "cell_type": "code",
   "execution_count": null,
   "metadata": {
    "collapsed": true
   },
   "outputs": [],
   "source": [
    "sig_links, ave_val_matrices = get_sig_links()"
   ]
  },
  {
   "cell_type": "markdown",
   "metadata": {},
   "source": [
    "We estimated how often a link was detected at the given ``alpha_level`` and plot this fraction as the width of the links while the average effect size for each link is given as the color:"
   ]
  },
  {
   "cell_type": "code",
   "execution_count": null,
   "metadata": {},
   "outputs": [],
   "source": [
    "# Showing detection power as width of links\n",
    "min_sig = 0.2\n",
    "vminmax = 0.5\n",
    "link_matrix = (sig_links['PCMCI'] > min_sig)\n",
    "tp.plot_graph(val_matrix=ave_val_matrices['PCMCI'],\n",
    "              link_matrix=link_matrix, var_names=var_names,\n",
    "              link_width=sig_links['PCMCI'],\n",
    "             arrow_linewidth=70.,\n",
    "              vmin_edges=-vminmax,\n",
    "              vmax_edges=vminmax,\n",
    "\n",
    ")\n",
    "link_matrix = (sig_links['GC'] > min_sig)\n",
    "tp.plot_graph(val_matrix=ave_val_matrices['GC'],\n",
    "              link_matrix=link_matrix, var_names=var_names,\n",
    "              link_width=sig_links['GC'], \n",
    "              link_colorbar_label='GC',\n",
    "              node_colorbar_label='auto-GC',\n",
    "             arrow_linewidth=70.,\n",
    "              vmin_edges=-vminmax,\n",
    "              vmax_edges=vminmax,\n",
    ")"
   ]
  },
  {
   "cell_type": "markdown",
   "metadata": {},
   "source": [
    "Evidently, the power of GC is lower purely due to GC's test statistic effect size being smaller. MCI has been constructed to estimate a certain notion of *causal strength* as discussed in the paper. MCI, thus, alleviates the effect of other dependencies on a particular link. In large-scale studies, this feature allows to rank links by their causal strength."
   ]
  },
  {
   "cell_type": "markdown",
   "metadata": {},
   "source": [
    "## 8.2 Higher dimensionality \n",
    "\n",
    "An obvious drawback of GC is that it always includes the whole past as a condition leading to very high estimation dimension which results in lower power. In the following we consider a model with only one true link and many irrelevant independent variables."
   ]
  },
  {
   "cell_type": "code",
   "execution_count": null,
   "metadata": {
    "collapsed": true
   },
   "outputs": [],
   "source": [
    "# Setup analysis\n",
    "numpy.random.seed(42)     # Fix random seed\n",
    "links_coeffs = {0: [((0, -1), 0.9), ((1, -2), -0.25)],\n",
    "                1: [((1, -1), 0.95), ((3, -3), 0.3)],\n",
    "                2: [((2, -1), 0.85), ((1, -2), 0.3), ((3, -3), 0.3)],\n",
    "                3: [((3, -1), 0.9)],\n",
    "                }\n",
    "T = 80     # time series length\n",
    "tau_max = 5\n",
    "realizations = 100\n",
    "alpha_level = 0.05\n",
    "n_variables = 9\n",
    "\n",
    "# Add independent variables\n",
    "for d in range(4, n_variables):\n",
    "    links_coeffs[d] = [((d, -1), 0.2 + numpy.random.rand()*0.7)]\n",
    "    \n",
    "var_names = [r'$Z$', r'$X$', r'$Y$', r'$W$'] + range(4, n_variables)\n",
    "\n",
    "N = len(links_coeffs.keys())\n",
    "# Define whole past\n",
    "whole_past = {}\n",
    "for j in range(N):\n",
    "    whole_past[j] = [(var, -lag)\n",
    "                         for var in range(N)\n",
    "                         for lag in range(1, tau_max + 1)\n",
    "                    ]"
   ]
  },
  {
   "cell_type": "code",
   "execution_count": null,
   "metadata": {},
   "outputs": [],
   "source": [
    "# This cell may take some minutes\n",
    "sig_links, ave_val_matrices = get_sig_links()"
   ]
  },
  {
   "cell_type": "code",
   "execution_count": null,
   "metadata": {},
   "outputs": [],
   "source": [
    "# Showing detection power as width of links\n",
    "min_sig = 0.05\n",
    "vminmax = 0.5\n",
    "link_matrix = (sig_links['PCMCI'] > min_sig)\n",
    "tp.plot_graph(val_matrix=ave_val_matrices['PCMCI'],\n",
    "              link_matrix=link_matrix, \n",
    "              link_width=sig_links['PCMCI'],\n",
    "             arrow_linewidth=70.,\n",
    "              vmin_edges=-vminmax,\n",
    "              vmax_edges=vminmax,\n",
    "              var_names = var_names,\n",
    "\n",
    ")\n",
    "link_matrix = (sig_links['GC'] > min_sig)\n",
    "tp.plot_graph(val_matrix=ave_val_matrices['GC'],\n",
    "              link_matrix=link_matrix, \n",
    "              link_width=sig_links['GC'], \n",
    "              link_colorbar_label='GC',\n",
    "              node_colorbar_label='auto-GC',\n",
    "             arrow_linewidth=70.,\n",
    "              vmin_edges=-vminmax,\n",
    "              vmax_edges=vminmax,\n",
    "             var_names = var_names,\n",
    "\n",
    ")"
   ]
  },
  {
   "cell_type": "markdown",
   "metadata": {},
   "source": [
    "Here only adding 5 independent variables makes it already impossible to detect the true links with GC, while PCMCI still detects them with almost the same power as before while still well controlling false positives at the expected 5% level (note that only 100 realizations were used to estimate the false positive rates making them not very reliable while the true positive rates are more reliable):"
   ]
  },
  {
   "cell_type": "code",
   "execution_count": null,
   "metadata": {},
   "outputs": [],
   "source": [
    "true_links = numpy.zeros((N, N, tau_max+1))\n",
    "for var in links_coeffs.keys():\n",
    "    for par in links_coeffs[var]:\n",
    "        true_links[par[0][0], var, abs(par[0][1])] = True\n",
    "# print true_links\n",
    "print \"Mean true  positives PCMCI \", numpy.mean(sig_links['PCMCI'][:,:,1:]\n",
    "                                                [true_links[:,:,1:]==True]).round(3)\n",
    "print \"Mean false positives PCMCI \", numpy.mean(sig_links['PCMCI'][:,:,1:]\n",
    "                                                [true_links[:,:,1:]==False]).round(3)\n",
    "print \"Mean true  positives GC    \", numpy.mean(sig_links['GC'][:,:,1:]\n",
    "                                                [true_links[:,:,1:]==True]).round(3)\n",
    "print \"Mean false positives GC    \", numpy.mean(sig_links['GC'][:,:,1:]\n",
    "                                                [true_links[:,:,1:]==False]).round(3)"
   ]
  },
  {
   "cell_type": "markdown",
   "metadata": {},
   "source": [
    "# 9. Causal effects and mediation\n",
    "\n",
    "The preceding sections were concerned with estimating causal links. In this section we discuss how the estimated time series graph can be used to evaluate causal effects and causal mediation in a linear framework as discussed in more detail in Runge et al, Nature Communications 2015. Consider the following model of a simple causal chain:\n",
    "\n",
    "\\begin{align*}\n",
    "              X_t &= \\eta^X_t \\\\\n",
    "              Y_t &= 0.5 X_{t-1} +  \\eta^Y_t \\\\\n",
    "              Z_t &= 0.5 Y_{t-1} +  \\eta^Z_t\n",
    "\\end{align*}"
   ]
  },
  {
   "cell_type": "code",
   "execution_count": null,
   "metadata": {},
   "outputs": [],
   "source": [
    "numpy.random.seed(42)\n",
    "# links_coeffs = {0: [],\n",
    "#                 1: [((0, -1), 0.5)],\n",
    "#                 2: [((1, -1), 0.5)],\n",
    "#                 }\n",
    "links_coeffs = {0: [((0,-1), 0.8)],\n",
    "                1: [((1,-1), 0.8), ((0, -1), 0.5)],\n",
    "                2: [((2,-1), 0.8), ((1, -1), 0.5)],\n",
    "                }\n",
    "var_names = [r\"$X$\", r\"$Y$\", r\"$Z$\"]\n",
    "    \n",
    "data, true_parents = pp.var_process(links_coeffs, T=1000)\n",
    "dataframe = pp.DataFrame(data)\n",
    "med = LinearMediation(dataframe=dataframe)\n",
    "med.fit_model(all_parents=true_parents, tau_max=4)"
   ]
  },
  {
   "cell_type": "markdown",
   "metadata": {},
   "source": [
    "We fit the linear mediation model based on the true parents here, in practice these are estimated with PCMCI. If the assumption of a linear model is justified *and* causal sufficiency is fulfilled, the *link coefficient* of $X_{t-\\tau}\\to Y_t$ estimated from standardized time series (default in ``LinearMediation`` class) corresponds to the change in the expected value of $Y_t$ (in units of its standard deviation) caused by a perturbation of one standard deviation in $X_{t-\\tau}$. Let's check the link coefficient of $X_{t-2}\\to Z_t$"
   ]
  },
  {
   "cell_type": "code",
   "execution_count": null,
   "metadata": {},
   "outputs": [],
   "source": [
    "print \"Link coefficient (0, -2) --> 2: \", med.get_coeff(i=0, tau=-2, j=2)"
   ]
  },
  {
   "cell_type": "markdown",
   "metadata": {},
   "source": [
    "The link coefficient is non-zero only for direct links. The *causal effect* evaluates also *indirect* effects and is now simply computed by summing over the products of link coefficients along all possible paths between the two variables. For example, here the causal effect of $X_{t-2}\\to Z_t$ is"
   ]
  },
  {
   "cell_type": "code",
   "execution_count": null,
   "metadata": {},
   "outputs": [],
   "source": [
    "print \"Causal effect (0, -2) --> 2: \", med.get_ce(i=0, tau=-2, j=2)"
   ]
  },
  {
   "cell_type": "markdown",
   "metadata": {},
   "source": [
    "The *mediated causal effect* quantifies the contribution of an intermediate variable to the causal effect. For example, let's look at the contribution of $Y$ on the causal effect of $X_{t-2}\\to Z_t$."
   ]
  },
  {
   "cell_type": "code",
   "execution_count": null,
   "metadata": {},
   "outputs": [],
   "source": [
    "print \"Mediated Causal effect (0, -2) --> 2 through 1: \", med.get_mce(i=0, tau=-2, j=2, k=1)\n"
   ]
  },
  {
   "cell_type": "markdown",
   "metadata": {},
   "source": [
    "Since $Y$ mediates *all* of the causal effect, MCE is the same as CE here. Mediation analysis is a powerful tool to quantify not only direct causal links, but also indirect pathways. This can answer questions such as \"How important is one process for the causal mechanism between two others?\". In the ``tigramite.plotting`` module are functions to visualize causal pathways both in the aggregated network and in the time series graph. Here we look at all causal pathways between $X_{t-4}$ and $Z_t$:"
   ]
  },
  {
   "cell_type": "code",
   "execution_count": null,
   "metadata": {},
   "outputs": [],
   "source": [
    "i=0; tau=4; j=2\n",
    "graph_data = med._get_mediation_graph_data(i=i, tau=tau, j=j)\n",
    "tp.plot_mediation_time_series_graph(\n",
    "    var_names=var_names,\n",
    "    path_node_array=graph_data['path_node_array'],\n",
    "    tsg_path_val_matrix=graph_data['tsg_path_val_matrix']\n",
    "    )\n",
    "tp.plot_mediation_graph(\n",
    "                    var_names=var_names,\n",
    "                    path_val_matrix=graph_data['path_val_matrix'], \n",
    "                    path_node_array=graph_data['path_node_array'],\n",
    "                    )"
   ]
  },
  {
   "cell_type": "markdown",
   "metadata": {},
   "source": [
    "In both plots, the node color depicts the mediation of a variable and the link colors depict the link coefficients. The graph plot in the bottom panel is easier to visualize for more complex pathways, but it's harder to see the pathways across variables *and* in time."
   ]
  },
  {
   "cell_type": "markdown",
   "metadata": {},
   "source": [
    "Causal effect and mediation analysis can also be used for more aggregate measures. The Average Causal Effect (ACE) quantifies how strong the effect of a single variable on the whole system is and the Average Causal Susceptibility (ACS) quantifies how strong a single variable is effected by perturbations entering elsewhere in the system. Last, the Average Mediated Causal Effect (AMCE) quantifies how much a single variable mediates causal effects between any two other processes. In Runge et al, Nature Communications (2015), these measures are compared with conventional complex network measures to show that causal effect measures are better interpretable alternatives. For example, *betweenness centrality* gives the average number of shortest paths going through a particular node. However, causal effects do not necessarily take shortest paths and betweenness also does not properly take into account the causal effect weights."
   ]
  },
  {
   "cell_type": "code",
   "execution_count": null,
   "metadata": {},
   "outputs": [],
   "source": [
    "print \"Average Causal Effect X=%.2f, Y=%.2f, Z=%.2f \" % tuple(med.get_all_ace())\n",
    "print \"Average Causal Susceptibility X=%.2f, Y=%.2f, Z=%.2f \" % tuple(med.get_all_acs())\n",
    "print \"Average Mediated Causal Effect X=%.2f, Y=%.2f, Z=%.2f \" % tuple(med.get_all_amce())"
   ]
  },
  {
   "cell_type": "markdown",
   "metadata": {},
   "source": [
    "Note that per default self-loops are excluded in these measures."
   ]
  },
  {
   "cell_type": "markdown",
   "metadata": {},
   "source": [
    "# 10. Prediction\n",
    "\n",
    "The ``tigramite.model`` file also contains a class to perform predictions based on the sklearn models. The ``Prediction`` class includes a wrapper around ``run_pc_stable`` form the ``PCMCI`` class to perform predictor selection. Consider the following data generation process: "
   ]
  },
  {
   "cell_type": "code",
   "execution_count": 66,
   "metadata": {
    "collapsed": true
   },
   "outputs": [],
   "source": [
    "numpy.random.seed(42)\n",
    "T = 200\n",
    "links_coeffs = {0: [((0, -1), 0.6)],\n",
    "                1: [((1, -1), 0.6), ((0, -1), 0.8)],\n",
    "                2: [((2, -1), 0.5), ((1, -1), 0.7)],  # ((0, -1), c)],\n",
    "                }\n",
    "data, true_parents = pp.var_process(links_coeffs, T=T)\n",
    "dataframe = pp.DataFrame(data)"
   ]
  },
  {
   "cell_type": "markdown",
   "metadata": {},
   "source": [
    "We initialize the ``Prediction`` class with ``cond_ind_model=ParCorr``. Optional test parameters can be passed on by ``cond_ind_params``. Secondly, we choose ``sklearn.linear_model.LinearRegression`` here for prediction. Also here, parameters can be passed on via ``prediction_model_params``. Last, we scale the data via ``data_transform``. The class takes care of rescaling the data for prediction. The parameters ``train_indices`` and ``test_indices`` are used to divide the data up into a training set and test set. The training set is used to select predictors and fit the model."
   ]
  },
  {
   "cell_type": "code",
   "execution_count": 89,
   "metadata": {},
   "outputs": [
    {
     "name": "stdout",
     "output_type": "stream",
     "text": [
      "\n",
      "# Initialize conditional independence test\n",
      "\n",
      "Parameters:\n",
      "independence test = par_corr\n",
      "significance = analytic\n",
      "use_mask = True\n",
      "mask_type = y\n",
      "\n"
     ]
    }
   ],
   "source": [
    "pred = Prediction(dataframe=dataframe,\n",
    "        cond_ind_model=ParCorr,   #CMIknn ParCorr\n",
    "#         cond_ind_params = {'knn':0.1, 'significance':'fixed_thres', 'fixed_thres':0.01},\n",
    "        prediction_model = sklearn.linear_model.LinearRegression,\n",
    "#         prediction_model = sklearn.gaussian_process.GaussianProcessRegressor,\n",
    "        # prediction_model = sklearn.neighbors.KNeighborsRegressor,\n",
    "    # prediction_model_params={'fit_intercept':False},\n",
    "    # prediction_model_params = {'n_neighbors':5},\n",
    "#     prediction_model_params = {'alpha':0., 'kernel':sklearn.gaussian_process.kernels.RBF() +\n",
    "#                                         sklearn.gaussian_process.kernels.WhiteKernel()},\n",
    "    data_transform=sklearn.preprocessing.StandardScaler(),\n",
    "    train_indices= range(int(0.8*T)),\n",
    "    test_indices= range(int(0.8*T), T),\n",
    "    verbosity=1\n",
    "    )"
   ]
  },
  {
   "cell_type": "markdown",
   "metadata": {},
   "source": [
    "Now, we select a superset of causal predictors up to a maximum past lag of ``tau_max`` using ``get_predictors`` for the target variable 2 at a prediction horizon of ``steps_ahead``. We use ``pc_alpha=None`` which optimizes the parameter based on the Akaike score."
   ]
  },
  {
   "cell_type": "code",
   "execution_count": 90,
   "metadata": {},
   "outputs": [
    {
     "name": "stdout",
     "output_type": "stream",
     "text": [
      "\n",
      "##\n",
      "## Running Tigramite PC algorithm\n",
      "##\n",
      "\n",
      "Parameters:\n",
      "selected_variables = [2]\n",
      "independence test = par_corr\n",
      "tau_min = 2\n",
      "tau_max = 30\n",
      "pc_alpha = [0.05, 0.1, 0.2, 0.3, 0.4, 0.5]\n",
      "max_conds_dim = None\n",
      "max_combinations = 1\n",
      "\n",
      "\n",
      "\n",
      "## Variable 2\n",
      "\n",
      "## Resulting condition sets:\n",
      "\n",
      "    Variable 0 has 0 parent(s):\n",
      "\n",
      "    Variable 1 has 0 parent(s):\n",
      "\n",
      "    Variable 2 has 4 parent(s):\n",
      "    [pc_alpha = 0.2]\n",
      "        (1 -2): max_pval = 0.00000, min_val = 0.641\n",
      "        (0 -2): max_pval = 0.00057, min_val = 0.340\n",
      "        (2 -18): max_pval = 0.02001, min_val = 0.234\n",
      "        (1 -3): max_pval = 0.17335, min_val = 0.140\n"
     ]
    }
   ],
   "source": [
    "tau_max = 30\n",
    "steps_ahead = 2\n",
    "target = 2\n",
    "\n",
    "all_predictors = pred.get_predictors(\n",
    "                  selected_targets=[target],\n",
    "                  steps_ahead=steps_ahead,\n",
    "                  tau_max=tau_max,\n",
    "                  pc_alpha=None\n",
    "                  )"
   ]
  },
  {
   "cell_type": "markdown",
   "metadata": {},
   "source": [
    "These predictors now efficiently avoid overfitting in the following model fit. Here one can specify whether multiple target variables should be fit at once (assuming that for all of these predictors have been estimated beforehand)."
   ]
  },
  {
   "cell_type": "code",
   "execution_count": 91,
   "metadata": {
    "collapsed": true
   },
   "outputs": [],
   "source": [
    "pred.fit(target_predictors=all_predictors, \n",
    "                selected_targets=[target],\n",
    "                    tau_max=tau_max)"
   ]
  },
  {
   "cell_type": "markdown",
   "metadata": {},
   "source": [
    "Now we are ready to predict the target variable at the test samples:"
   ]
  },
  {
   "cell_type": "code",
   "execution_count": 92,
   "metadata": {},
   "outputs": [
    {
     "name": "stdout",
     "output_type": "stream",
     "text": [
      "\n",
      "##\n",
      "## Predicting target 2\n",
      "##\n"
     ]
    },
    {
     "data": {
      "text/plain": [
       "<matplotlib.text.Text at 0x7f8f7f7fa210>"
      ]
     },
     "execution_count": 92,
     "metadata": {},
     "output_type": "execute_result"
    },
    {
     "data": {
      "image/png": "[encoded data removed]",
      "text/plain": [
       "<matplotlib.figure.Figure at 0x7f8f845edb50>"
      ]
     },
     "metadata": {},
     "output_type": "display_data"
    }
   ],
   "source": [
    "predicted = pred.predict(target)\n",
    "true_data = pred.get_test_array()[0]\n",
    "\n",
    "plt.scatter(true_data, predicted)\n",
    "plt.title(r\"NRMSE = %.2f\" % (numpy.abs(true_data - predicted).mean()/true_data.std()))\n",
    "plt.plot(true_data, true_data, 'k-')\n",
    "plt.xlabel('True test data')\n",
    "plt.ylabel('Predicted test data')"
   ]
  },
  {
   "cell_type": "markdown",
   "metadata": {},
   "source": [
    "This prediction is much better than using *all* past variables:"
   ]
  },
  {
   "cell_type": "code",
   "execution_count": 93,
   "metadata": {},
   "outputs": [
    {
     "name": "stdout",
     "output_type": "stream",
     "text": [
      "\n",
      "##\n",
      "## Predicting target 2\n",
      "##\n"
     ]
    },
    {
     "data": {
      "text/plain": [
       "<matplotlib.text.Text at 0x7f8f7f720fd0>"
      ]
     },
     "execution_count": 93,
     "metadata": {},
     "output_type": "execute_result"
    },
    {
     "data": {
      "image/png": "[encoded data removed]",
      "text/plain": [
       "<matplotlib.figure.Figure at 0x7f8f7f8ae1d0>"
      ]
     },
     "metadata": {},
     "output_type": "display_data"
    }
   ],
   "source": [
    "whole_predictors = {2:[(i, -tau) for i in range(3) for tau in range(1, tau_max+1)]}\n",
    "pred.fit(target_predictors=whole_predictors, \n",
    "                selected_targets=[target],\n",
    "                    tau_max=tau_max)\n",
    "\n",
    "predicted = pred.predict(target)\n",
    "true_data = pred.get_test_array()[0]\n",
    "\n",
    "plt.scatter(true_data, predicted)\n",
    "plt.plot(true_data, true_data, 'k-')\n",
    "plt.title(r\"NRMSE = %.2f\" % (numpy.abs(true_data - predicted).mean()/true_data.std()))\n",
    "plt.xlabel('True test data')\n",
    "plt.ylabel('Predicted test data')\n"
   ]
  },
  {
   "cell_type": "code",
   "execution_count": null,
   "metadata": {
    "collapsed": true
   },
   "outputs": [],
   "source": []
  },
  {
   "cell_type": "code",
   "execution_count": null,
   "metadata": {
    "collapsed": true
   },
   "outputs": [],
   "source": []
  },
  {
   "cell_type": "code",
   "execution_count": null,
   "metadata": {
    "collapsed": true
   },
   "outputs": [],
   "source": []
  },
  {
   "cell_type": "code",
   "execution_count": null,
   "metadata": {
    "collapsed": true
   },
   "outputs": [],
   "source": []
  }
 ],
 "metadata": {
  "kernelspec": {
   "display_name": "Python 2",
   "language": "python",
   "name": "python2"
  },
  "language_info": {
   "codemirror_mode": {
    "name": "ipython",
    "version": 2
   },
   "file_extension": ".py",
   "mimetype": "text/x-python",
   "name": "python",
   "nbconvert_exporter": "python",
   "pygments_lexer": "ipython2",
   "version": "2.7.13"
  }
 },
 "nbformat": 4,
 "nbformat_minor": 1
}
